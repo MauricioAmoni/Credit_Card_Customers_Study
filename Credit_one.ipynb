{
 "cells": [
  {
   "cell_type": "markdown",
   "id": "59f02e95",
   "metadata": {},
   "source": [
    "# Mauricio Amoni"
   ]
  },
  {
   "cell_type": "markdown",
   "id": "18529f45",
   "metadata": {},
   "source": [
    "## Content"
   ]
  },
  {
   "cell_type": "markdown",
   "id": "b8e5c8a2",
   "metadata": {},
   "source": [
    "* [Introduction](#introduction)\n",
    "* [Importing Libraries](#importing)\n",
    "* [Pre-processing Data](#preprocessing)\n",
    "  * [Reading Data Set using Pandas](#reading)\n",
    "  * [Adding new columns & Cheking Data Set](#adding) \n",
    "* [Classification Models](#classification)\n",
    "  * [Error Analysis](#error)\n",
    "  * [Building Two Models](#two)\n",
    "  * [Building a model for each interval](#each)\n",
    "* [Regression](#regression)\n",
    "* [Conclusions](#conclusions)\n",
    "\n",
    "\n",
    "  "
   ]
  },
  {
   "cell_type": "markdown",
   "id": "3c750671",
   "metadata": {},
   "source": [
    "## Introduction<a class='anchor' id='introduction'></a>"
   ]
  },
  {
   "cell_type": "markdown",
   "id": "173e84b3",
   "metadata": {},
   "source": [
    "This report is part of the ongoing project for Credit One. The main goal of the project is to identify which customer attributes relate significantly to customer default rates and to build a predictive model that can be used to better classify potential customers as being 'at-risk'. It would be interesting to also establish a model to understand wich quantity is the most suitable for each client and try to establish a model to identify potential good clients (revolving credit). \n",
    "\n",
    "After having carried out an exploration of the existing data in order to better understand it, the goal of this report is to build the prediction models to lower the default rates. The report begins with the classification models to try to identify potential customers as being 'at-risk', and later potentially good customers (revolving credit). The report then tries to establish a model via regression to understand wich quantity is the most suitable for each client.\n",
    "\n",
    "&nbsp;"
   ]
  },
  {
   "cell_type": "markdown",
   "id": "a5604b82",
   "metadata": {},
   "source": [
    "## Importing Libraries<a class='anchor' id='importing'></a>"
   ]
  },
  {
   "cell_type": "code",
   "execution_count": 1,
   "id": "fbeca4c9",
   "metadata": {},
   "outputs": [],
   "source": [
    "# Importing \n",
    "import pandas as pd\n",
    "from pandas import Series\n",
    "import matplotlib.pyplot as plt\n",
    "import numpy as np\n",
    "from numpy import argmax\n",
    "from math import sqrt\n",
    "import seaborn as sns\n",
    "\n",
    "\n",
    "#SKLearn\n",
    "from sklearn.datasets import make_classification\n",
    "from sklearn.ensemble import RandomForestClassifier, GradientBoostingClassifier\n",
    "from sklearn.model_selection import GridSearchCV, train_test_split, cross_val_score\n",
    "from sklearn.tree import DecisionTreeClassifier\n",
    "from sklearn.svm import SVR\n",
    "from sklearn.ensemble import RandomForestRegressor\n",
    "from sklearn.linear_model import LinearRegression\n",
    "from sklearn.metrics import *"
   ]
  },
  {
   "cell_type": "markdown",
   "id": "be968348",
   "metadata": {},
   "source": [
    "## Pre-processing Data<a class='anchor' id='preprocessing'></a>"
   ]
  },
  {
   "cell_type": "markdown",
   "id": "5ed7ea87",
   "metadata": {},
   "source": [
    "#### Reading Data Set using Pandas<a class='anchor' id='reading'></a>"
   ]
  },
  {
   "cell_type": "code",
   "execution_count": 2,
   "id": "9a6f1dd1",
   "metadata": {},
   "outputs": [],
   "source": [
    "data = pd.read_csv('credit_one_final.csv')"
   ]
  },
  {
   "cell_type": "markdown",
   "id": "c67b5aeb",
   "metadata": {},
   "source": [
    "#### Adding new columns & Cheking Data Set<a class='anchor' id='adding'></a>"
   ]
  },
  {
   "cell_type": "code",
   "execution_count": 3,
   "id": "b9e6bfaa",
   "metadata": {},
   "outputs": [],
   "source": [
    "# Creates a new column by binning the age of the customers\n",
    "data['AGE_BINNED'] = pd.cut(data['AGE'], bins=[21,31,41,51,61,71,81], \n",
    "                    labels=['21-31', '31-41', '41-51', '51-61', '61-71', '71-81'])\n"
   ]
  },
  {
   "cell_type": "code",
   "execution_count": 4,
   "id": "69b22c88",
   "metadata": {},
   "outputs": [],
   "source": [
    "# Creates a new column by binning the Limit Balance variable\n",
    "data['BAL_BINNED'] = pd.cut(data['LIMIT_BAL'], bins=[5000,50000,100000,150000,200000,250000,300000,400000,500000,1000000],\n",
    "labels=['(5000, 50000]','(50000, 100000]','(100000, 150000]',\n",
    "        '(150000, 200000]','(250000, 300000]','(200000, 250000]',\n",
    "        '(300000, 400000]','(400000, 500000]', ('+500000')])\n"
   ]
  },
  {
   "cell_type": "code",
   "execution_count": 5,
   "id": "7677a616",
   "metadata": {},
   "outputs": [],
   "source": [
    "# Creates a new column by binning the age of the customers"
   ]
  },
  {
   "cell_type": "code",
   "execution_count": 6,
   "id": "d9e65b20",
   "metadata": {},
   "outputs": [],
   "source": [
    "# Creates a new column name 'BAL DIF' subtracting the column with maximum amount billed \n",
    "# from among all amount billed columns and the limit balance column\n",
    "data['BAL_DIF'] = (data[['SEP_BILL1','AUG_BILL2','JUL_BILL3','JUN_BILL4','MAY_BILL5','APR_BILL6']].max(axis=1))-data['LIMIT_BAL']"
   ]
  },
  {
   "cell_type": "code",
   "execution_count": 7,
   "id": "63b6e01a",
   "metadata": {
    "scrolled": true
   },
   "outputs": [
    {
     "name": "stdout",
     "output_type": "stream",
     "text": [
      "<class 'pandas.core.frame.DataFrame'>\n",
      "RangeIndex: 30201 entries, 0 to 30200\n",
      "Data columns (total 33 columns):\n",
      " #   Column                     Non-Null Count  Dtype   \n",
      "---  ------                     --------------  -----   \n",
      " 0   ID                         30201 non-null  int64   \n",
      " 1   LIMIT_BAL                  30201 non-null  int64   \n",
      " 2   MARRIAGE                   30201 non-null  int64   \n",
      " 3   AGE                        30201 non-null  int64   \n",
      " 4   SEP_PAY1                   30201 non-null  int64   \n",
      " 5   AUG_PAY2                   30201 non-null  int64   \n",
      " 6   JUL_PAY3                   30201 non-null  int64   \n",
      " 7   JUN_PAY4                   30201 non-null  int64   \n",
      " 8   MAY_PAY5                   30201 non-null  int64   \n",
      " 9   APR_PAY6                   30201 non-null  int64   \n",
      " 10  SEP_BILL1                  30201 non-null  int64   \n",
      " 11  AUG_BILL2                  30201 non-null  int64   \n",
      " 12  JUL_BILL3                  30201 non-null  int64   \n",
      " 13  JUN_BILL4                  30201 non-null  int64   \n",
      " 14  MAY_BILL5                  30201 non-null  int64   \n",
      " 15  APR_BILL6                  30201 non-null  int64   \n",
      " 16  SEP_PAYB1                  30201 non-null  int64   \n",
      " 17  AUG_PAYB2                  30201 non-null  int64   \n",
      " 18  JUL_PAYB3                  30201 non-null  int64   \n",
      " 19  JUN_PAYB4                  30201 non-null  int64   \n",
      " 20  MAY_PAYB5                  30201 non-null  int64   \n",
      " 21  APR_PAYB6                  30201 non-null  int64   \n",
      " 22  SEX_female                 30201 non-null  int64   \n",
      " 23  SEX_male                   30201 non-null  int64   \n",
      " 24  EDUCATION_graduate school  30201 non-null  int64   \n",
      " 25  EDUCATION_high school      30201 non-null  int64   \n",
      " 26  EDUCATION_other            30201 non-null  int64   \n",
      " 27  EDUCATION_university       30201 non-null  int64   \n",
      " 28  DEF_PAY_default            30201 non-null  int64   \n",
      " 29  DEF_PAY_not default        30201 non-null  int64   \n",
      " 30  AGE_BINNED                 30134 non-null  category\n",
      " 31  BAL_BINNED                 30201 non-null  category\n",
      " 32  BAL_DIF                    30201 non-null  int64   \n",
      "dtypes: category(2), int64(31)\n",
      "memory usage: 7.2 MB\n"
     ]
    }
   ],
   "source": [
    "# Information about the data set\n",
    "data.info()"
   ]
  },
  {
   "cell_type": "code",
   "execution_count": 8,
   "id": "e711b87d",
   "metadata": {
    "scrolled": false
   },
   "outputs": [
    {
     "data": {
      "text/html": [
       "<div>\n",
       "<style scoped>\n",
       "    .dataframe tbody tr th:only-of-type {\n",
       "        vertical-align: middle;\n",
       "    }\n",
       "\n",
       "    .dataframe tbody tr th {\n",
       "        vertical-align: top;\n",
       "    }\n",
       "\n",
       "    .dataframe thead th {\n",
       "        text-align: right;\n",
       "    }\n",
       "</style>\n",
       "<table border=\"1\" class=\"dataframe\">\n",
       "  <thead>\n",
       "    <tr style=\"text-align: right;\">\n",
       "      <th></th>\n",
       "      <th>ID</th>\n",
       "      <th>LIMIT_BAL</th>\n",
       "      <th>MARRIAGE</th>\n",
       "      <th>AGE</th>\n",
       "      <th>SEP_PAY1</th>\n",
       "      <th>AUG_PAY2</th>\n",
       "      <th>JUL_PAY3</th>\n",
       "      <th>JUN_PAY4</th>\n",
       "      <th>MAY_PAY5</th>\n",
       "      <th>APR_PAY6</th>\n",
       "      <th>...</th>\n",
       "      <th>SEX_male</th>\n",
       "      <th>EDUCATION_graduate school</th>\n",
       "      <th>EDUCATION_high school</th>\n",
       "      <th>EDUCATION_other</th>\n",
       "      <th>EDUCATION_university</th>\n",
       "      <th>DEF_PAY_default</th>\n",
       "      <th>DEF_PAY_not default</th>\n",
       "      <th>AGE_BINNED</th>\n",
       "      <th>BAL_BINNED</th>\n",
       "      <th>BAL_DIF</th>\n",
       "    </tr>\n",
       "  </thead>\n",
       "  <tbody>\n",
       "    <tr>\n",
       "      <th>0</th>\n",
       "      <td>1</td>\n",
       "      <td>20000</td>\n",
       "      <td>1</td>\n",
       "      <td>24</td>\n",
       "      <td>2</td>\n",
       "      <td>2</td>\n",
       "      <td>-1</td>\n",
       "      <td>-1</td>\n",
       "      <td>-2</td>\n",
       "      <td>-2</td>\n",
       "      <td>...</td>\n",
       "      <td>0</td>\n",
       "      <td>0</td>\n",
       "      <td>0</td>\n",
       "      <td>0</td>\n",
       "      <td>1</td>\n",
       "      <td>1</td>\n",
       "      <td>0</td>\n",
       "      <td>21-31</td>\n",
       "      <td>(5000, 50000]</td>\n",
       "      <td>-16087</td>\n",
       "    </tr>\n",
       "    <tr>\n",
       "      <th>1</th>\n",
       "      <td>2</td>\n",
       "      <td>120000</td>\n",
       "      <td>2</td>\n",
       "      <td>26</td>\n",
       "      <td>-1</td>\n",
       "      <td>2</td>\n",
       "      <td>0</td>\n",
       "      <td>0</td>\n",
       "      <td>0</td>\n",
       "      <td>2</td>\n",
       "      <td>...</td>\n",
       "      <td>0</td>\n",
       "      <td>0</td>\n",
       "      <td>0</td>\n",
       "      <td>0</td>\n",
       "      <td>1</td>\n",
       "      <td>1</td>\n",
       "      <td>0</td>\n",
       "      <td>21-31</td>\n",
       "      <td>(100000, 150000]</td>\n",
       "      <td>-116545</td>\n",
       "    </tr>\n",
       "    <tr>\n",
       "      <th>2</th>\n",
       "      <td>3</td>\n",
       "      <td>90000</td>\n",
       "      <td>2</td>\n",
       "      <td>34</td>\n",
       "      <td>0</td>\n",
       "      <td>0</td>\n",
       "      <td>0</td>\n",
       "      <td>0</td>\n",
       "      <td>0</td>\n",
       "      <td>0</td>\n",
       "      <td>...</td>\n",
       "      <td>0</td>\n",
       "      <td>0</td>\n",
       "      <td>0</td>\n",
       "      <td>0</td>\n",
       "      <td>1</td>\n",
       "      <td>0</td>\n",
       "      <td>1</td>\n",
       "      <td>31-41</td>\n",
       "      <td>(50000, 100000]</td>\n",
       "      <td>-60761</td>\n",
       "    </tr>\n",
       "    <tr>\n",
       "      <th>3</th>\n",
       "      <td>4</td>\n",
       "      <td>50000</td>\n",
       "      <td>1</td>\n",
       "      <td>37</td>\n",
       "      <td>0</td>\n",
       "      <td>0</td>\n",
       "      <td>0</td>\n",
       "      <td>0</td>\n",
       "      <td>0</td>\n",
       "      <td>0</td>\n",
       "      <td>...</td>\n",
       "      <td>0</td>\n",
       "      <td>0</td>\n",
       "      <td>0</td>\n",
       "      <td>0</td>\n",
       "      <td>1</td>\n",
       "      <td>0</td>\n",
       "      <td>1</td>\n",
       "      <td>31-41</td>\n",
       "      <td>(5000, 50000]</td>\n",
       "      <td>-709</td>\n",
       "    </tr>\n",
       "    <tr>\n",
       "      <th>4</th>\n",
       "      <td>5</td>\n",
       "      <td>50000</td>\n",
       "      <td>1</td>\n",
       "      <td>57</td>\n",
       "      <td>-1</td>\n",
       "      <td>0</td>\n",
       "      <td>-1</td>\n",
       "      <td>0</td>\n",
       "      <td>0</td>\n",
       "      <td>0</td>\n",
       "      <td>...</td>\n",
       "      <td>1</td>\n",
       "      <td>0</td>\n",
       "      <td>0</td>\n",
       "      <td>0</td>\n",
       "      <td>1</td>\n",
       "      <td>0</td>\n",
       "      <td>1</td>\n",
       "      <td>51-61</td>\n",
       "      <td>(5000, 50000]</td>\n",
       "      <td>-14165</td>\n",
       "    </tr>\n",
       "  </tbody>\n",
       "</table>\n",
       "<p>5 rows × 33 columns</p>\n",
       "</div>"
      ],
      "text/plain": [
       "   ID  LIMIT_BAL  MARRIAGE  AGE  SEP_PAY1  AUG_PAY2  JUL_PAY3  JUN_PAY4  \\\n",
       "0   1      20000         1   24         2         2        -1        -1   \n",
       "1   2     120000         2   26        -1         2         0         0   \n",
       "2   3      90000         2   34         0         0         0         0   \n",
       "3   4      50000         1   37         0         0         0         0   \n",
       "4   5      50000         1   57        -1         0        -1         0   \n",
       "\n",
       "   MAY_PAY5  APR_PAY6  ...  SEX_male  EDUCATION_graduate school  \\\n",
       "0        -2        -2  ...         0                          0   \n",
       "1         0         2  ...         0                          0   \n",
       "2         0         0  ...         0                          0   \n",
       "3         0         0  ...         0                          0   \n",
       "4         0         0  ...         1                          0   \n",
       "\n",
       "   EDUCATION_high school  EDUCATION_other  EDUCATION_university  \\\n",
       "0                      0                0                     1   \n",
       "1                      0                0                     1   \n",
       "2                      0                0                     1   \n",
       "3                      0                0                     1   \n",
       "4                      0                0                     1   \n",
       "\n",
       "   DEF_PAY_default  DEF_PAY_not default  AGE_BINNED        BAL_BINNED  BAL_DIF  \n",
       "0                1                    0       21-31     (5000, 50000]   -16087  \n",
       "1                1                    0       21-31  (100000, 150000]  -116545  \n",
       "2                0                    1       31-41   (50000, 100000]   -60761  \n",
       "3                0                    1       31-41     (5000, 50000]     -709  \n",
       "4                0                    1       51-61     (5000, 50000]   -14165  \n",
       "\n",
       "[5 rows x 33 columns]"
      ]
     },
     "execution_count": 8,
     "metadata": {},
     "output_type": "execute_result"
    }
   ],
   "source": [
    "# Check the first 5 rows of the data frame\n",
    "data.head()"
   ]
  },
  {
   "cell_type": "markdown",
   "id": "1f381e7b",
   "metadata": {},
   "source": [
    "## Classification Models<a class='anchor' id='classification'></a>"
   ]
  },
  {
   "cell_type": "markdown",
   "id": "8074281a",
   "metadata": {},
   "source": [
    "In this part, as explained in the introduction, we try to identify potential customers who are at risk. To begin with, three models are built -Decision Tree, Random Forest, Gradient Boosting- to find the most appropriate model. To do this, cross validation is used for the three models : \n",
    "\n",
    "&nbsp;"
   ]
  },
  {
   "cell_type": "code",
   "execution_count": 9,
   "id": "7810040c",
   "metadata": {},
   "outputs": [],
   "source": [
    "# Selecting features\n",
    "X = data[['AGE','LIMIT_BAL','SEX_male', 'EDUCATION_graduate school', 'EDUCATION_university', 'EDUCATION_high school']]\n"
   ]
  },
  {
   "cell_type": "code",
   "execution_count": 10,
   "id": "26c598cc",
   "metadata": {},
   "outputs": [],
   "source": [
    "# Selecting dependent variable\n",
    "y = data['DEF_PAY_default']"
   ]
  },
  {
   "cell_type": "code",
   "execution_count": 11,
   "id": "f1665ac9",
   "metadata": {},
   "outputs": [],
   "source": [
    "# Train/Test Split\n",
    "X_train, X_test, y_train, y_test = train_test_split(X, y, test_size = 0.30, random_state=123)"
   ]
  },
  {
   "cell_type": "code",
   "execution_count": 12,
   "id": "502c3e28",
   "metadata": {},
   "outputs": [],
   "source": [
    "# Creates an array of models\n",
    "algos_Class = []\n",
    "algos_Class.append(('Random Forest Classifier:', RandomForestClassifier(max_depth=4)))\n",
    "algos_Class.append(('Decision Tree Classifier:', DecisionTreeClassifier(max_depth=4)))\n",
    "algos_Class.append(('Gradient Boosting Classifier:', GradientBoostingClassifier()))"
   ]
  },
  {
   "cell_type": "code",
   "execution_count": 13,
   "id": "dca1b639",
   "metadata": {},
   "outputs": [],
   "source": [
    "# Loops across the array and uses the cross_val_score function for each model\n",
    "results = []\n",
    "names = []\n",
    "feature_importance = []\n",
    "\n",
    "for name,model in algos_Class:\n",
    "        result = cross_val_score(model, X, y, cv=3, scoring='accuracy')\n",
    "        names.append(name)\n",
    "        results.append(result)\n",
    "        \n",
    "        "
   ]
  },
  {
   "cell_type": "code",
   "execution_count": 14,
   "id": "5a6dbfa4",
   "metadata": {
    "scrolled": false
   },
   "outputs": [
    {
     "name": "stdout",
     "output_type": "stream",
     "text": [
      "Random Forest Classifier: 0.7787490480447667\n",
      "Decision Tree Classifier: 0.7787490480447667\n",
      "Gradient Boosting Classifier: 0.7785172676401443\n"
     ]
    }
   ],
   "source": [
    "# Prints the results of each model\n",
    "for i in range(len(names)):\n",
    "    print(names[i], results[i].mean())"
   ]
  },
  {
   "cell_type": "markdown",
   "id": "9a447bf6",
   "metadata": {},
   "source": [
    "&nbsp;\n",
    "\n",
    "After seeing the results, quite similar. It is decided to continue with the Gradient Boosting model since boosting algorithms are ideal for imbalanced datasets. And as explained in the following <a href=\"https://repositorio.bde.es/handle/123456789/14691\"> Bank of Spain document</a> , it seems that it obtains better results than the others.\n",
    "\n",
    "So to obtain more information about the initial result, the model is built again and the classification report and the confusion matrix are printed:\n",
    "\n",
    "&nbsp;"
   ]
  },
  {
   "cell_type": "code",
   "execution_count": 15,
   "id": "b356b8c5",
   "metadata": {},
   "outputs": [],
   "source": [
    "# Modelling(Classification)\n",
    "algo = GradientBoostingClassifier()\n",
    "model = algo.fit(X_train, y_train)"
   ]
  },
  {
   "cell_type": "code",
   "execution_count": 16,
   "id": "fdba870c",
   "metadata": {
    "scrolled": true
   },
   "outputs": [
    {
     "name": "stdout",
     "output_type": "stream",
     "text": [
      "              precision    recall  f1-score   support\n",
      "\n",
      "           0       0.78      1.00      0.87      7047\n",
      "           1       0.44      0.00      0.01      2014\n",
      "\n",
      "    accuracy                           0.78      9061\n",
      "   macro avg       0.61      0.50      0.44      9061\n",
      "weighted avg       0.70      0.78      0.68      9061\n",
      "\n",
      "      0  1\n",
      "0  7038  9\n",
      "1  2007  7\n"
     ]
    }
   ],
   "source": [
    "# Predictions,classification report and confusion matrix\n",
    "preds = model.predict(X_test)\n",
    "print(classification_report(y_test, preds))\n",
    "print(pd.DataFrame(confusion_matrix(y_test, preds)))"
   ]
  },
  {
   "cell_type": "markdown",
   "id": "2dfd1e33",
   "metadata": {},
   "source": [
    "With more information it is clearly seen that despite having an accuracy of 0.78 this model is not capable of predicting the positive class, which represents the default. For this reason, it is convenient to decide which are the most appropriate metrics to decide the quality of the model.\n",
    "\n",
    "In this case, as it is a business model based on giving credit to clients, it is appropriate to achieve the minimum possible default percentage. Taking into account that the current default rate is above 20%, the situation is far from optimal. For this reason, although it is desirable to obtain a model as accurate as possible, the priority will be to identify as many defaults as possible.\n",
    "\n",
    "Before continuing tuning the model we observe which are the most important features : \n",
    "\n",
    "&nbsp;\n"
   ]
  },
  {
   "cell_type": "code",
   "execution_count": 17,
   "id": "68d71c5b",
   "metadata": {
    "scrolled": false
   },
   "outputs": [
    {
     "data": {
      "text/plain": [
       "<BarContainer object of 6 artists>"
      ]
     },
     "execution_count": 17,
     "metadata": {},
     "output_type": "execute_result"
    },
    {
     "data": {
      "image/png": "[encoded data removed]",
      "text/plain": [
       "<Figure size 432x288 with 1 Axes>"
      ]
     },
     "metadata": {
      "needs_background": "light"
     },
     "output_type": "display_data"
    }
   ],
   "source": [
    "# Plots a horizontal graph with the variables used in the model and the feature_importances function\n",
    "plt.barh(X.columns, model.feature_importances_)"
   ]
  },
  {
   "cell_type": "markdown",
   "id": "38a7330f",
   "metadata": {},
   "source": [
    "It is clear that the most important variable for this model at the moment is the Limit Balance by far, followed by age.\n",
    "\n",
    "Now we continue to fine-tune the model taking into account the need to detect the maximum possible number of defaults:\n",
    "\n",
    "&nbsp;"
   ]
  },
  {
   "cell_type": "code",
   "execution_count": 18,
   "id": "85b5d16b",
   "metadata": {},
   "outputs": [
    {
     "name": "stdout",
     "output_type": "stream",
     "text": [
      "              precision    recall  f1-score   support\n",
      "\n",
      "           0       0.78      0.92      0.85      7019\n",
      "           1       0.33      0.13      0.18      2042\n",
      "\n",
      "    accuracy                           0.74      9061\n",
      "   macro avg       0.56      0.53      0.52      9061\n",
      "weighted avg       0.68      0.74      0.70      9061\n",
      "\n",
      "      0    1\n",
      "0  6482  537\n",
      "1  1782  260\n"
     ]
    }
   ],
   "source": [
    "# Selecting features\n",
    "X = data[['AGE','LIMIT_BAL','SEX_male', 'EDUCATION_graduate school', 'EDUCATION_university', 'EDUCATION_high school']]\n",
    "\n",
    "# Selecting dependent variable\n",
    "y = data['DEF_PAY_default']\n",
    "\n",
    "# Train/Test Split\n",
    "X_train, X_test, y_train, y_test = train_test_split(X, y, test_size = 0.30, random_state=125)\n",
    "\n",
    "algo = GradientBoostingClassifier(learning_rate=0.05, n_estimators=501, max_depth=10, random_state=10) \n",
    "model = algo.fit(X_train, y_train)\n",
    "\n",
    "# Predictions,classification report and confusion matrix\n",
    "preds = model.predict(X_test)\n",
    "print(classification_report(y_test, preds))\n",
    "print(pd.DataFrame(confusion_matrix(y_test, preds)))"
   ]
  },
  {
   "cell_type": "code",
   "execution_count": 19,
   "id": "373153bb",
   "metadata": {
    "scrolled": true
   },
   "outputs": [
    {
     "name": "stdout",
     "output_type": "stream",
     "text": [
      "              precision    recall  f1-score   support\n",
      "\n",
      "           0       0.78      0.82      0.80      7019\n",
      "           1       0.26      0.22      0.24      2042\n",
      "\n",
      "    accuracy                           0.68      9061\n",
      "   macro avg       0.52      0.52      0.52      9061\n",
      "weighted avg       0.66      0.68      0.67      9061\n",
      "\n",
      "      0     1\n",
      "0  5734  1285\n",
      "1  1596   446\n"
     ]
    }
   ],
   "source": [
    "# Selecting features\n",
    "X = data[['AGE','LIMIT_BAL','SEX_male', 'EDUCATION_graduate school', 'EDUCATION_university', 'EDUCATION_high school']]\n",
    "\n",
    "# Selecting dependent variable\n",
    "y = data['DEF_PAY_default']\n",
    "\n",
    "# Train/Test Split\n",
    "X_train, X_test, y_train, y_test = train_test_split(X, y, test_size = 0.30, random_state=125)\n",
    "\n",
    "# Modelling(Classification)\n",
    "algo = GradientBoostingClassifier(learning_rate=0.5, n_estimators=801, max_depth=10,subsample= 0.8, random_state=10)\n",
    "model = algo.fit(X_train, y_train)\n",
    "\n",
    "# Predictions,classification report and confusion matrix\n",
    "preds = model.predict(X_test)\n",
    "print(classification_report(y_test, preds))\n",
    "print(pd.DataFrame(confusion_matrix(y_test, preds)))"
   ]
  },
  {
   "cell_type": "markdown",
   "id": "5519b780",
   "metadata": {},
   "source": [
    "With these two models it can be seen how the recall has been increased to 0.22 but even so the number of detected defaults is still very low as can be seen in the confusion matrix. A quick look at the TP and FP shows that the detection of the latest model is below a third of the total positives.\n",
    "\n",
    "To try to continue improving the results, we will try to modify the threshold that the model uses by default to decide if a prediction is negative or positive. With which the next step tries to identify an optimal threshold to be applied:\n",
    "\n",
    "&nbsp;"
   ]
  },
  {
   "cell_type": "code",
   "execution_count": 20,
   "id": "c617c19b",
   "metadata": {
    "scrolled": true
   },
   "outputs": [
    {
     "name": "stdout",
     "output_type": "stream",
     "text": [
      "Best Threshold=0.214637\n"
     ]
    },
    {
     "data": {
      "image/png": "[encoded data removed]",
      "text/plain": [
       "<Figure size 432x288 with 1 Axes>"
      ]
     },
     "metadata": {
      "needs_background": "light"
     },
     "output_type": "display_data"
    }
   ],
   "source": [
    "# Selecting features\n",
    "X = data[['AGE','LIMIT_BAL','SEX_male', 'EDUCATION_graduate school', 'EDUCATION_university', 'EDUCATION_high school']]\n",
    "\n",
    "# Selecting dependent variable\n",
    "y = data['DEF_PAY_default']\n",
    "\n",
    "# Train/Test Split\n",
    "X_train, X_test, y_train, y_test = train_test_split(X, y, test_size = 0.30, random_state=124)\n",
    "\n",
    "# Modelling(Classification)\n",
    "algo = GradientBoostingClassifier()\n",
    "model = algo.fit(X_train, y_train)\n",
    "\n",
    "# Predicts probabilities and keep them for the positive outcome only\n",
    "y_scores = model.predict_proba(X_test)[:,1]\n",
    "\n",
    "# Calculates roc curves\n",
    "fpr, tpr, thresholds = roc_curve(y_test, y_scores)\n",
    "\n",
    "# Gets the best threshold\n",
    "J = tpr - fpr\n",
    "ix = argmax(J)\n",
    "best_thresh = thresholds[ix]\n",
    "print('Best Threshold=%f' % (best_thresh))\n",
    "\n",
    "# Plots the roc curve for the model\n",
    "plt.plot([0,1], [0,1], linestyle='--', label='No Skill')\n",
    "plt.plot(fpr, tpr, marker='.', label='Gradient Boosting')\n",
    "plt.scatter(fpr[ix], tpr[ix], marker='o', color='black', label='Best')\n",
    "plt.xlabel('False Positive Rate')\n",
    "plt.ylabel('True Positive Rate')\n",
    "plt.legend()\n",
    "plt.show()"
   ]
  },
  {
   "cell_type": "markdown",
   "id": "4264bf33",
   "metadata": {},
   "source": [
    "In this case, the roc curve of the model has been plotted and the optimal point between true and false positive rates has been sought. The result gives a threshold of 0.214.\n",
    "\n",
    "To continue with an analysis of the best possible threshold, a precision-recall curve is plotted, which unlike the ROC-AUC focuses only on the positive class : \n",
    "\n",
    "&nbsp;"
   ]
  },
  {
   "cell_type": "code",
   "execution_count": 21,
   "id": "24fffb5e",
   "metadata": {
    "scrolled": true
   },
   "outputs": [
    {
     "name": "stdout",
     "output_type": "stream",
     "text": [
      "Best Threshold=0.226282, F-Score=0.404\n"
     ]
    },
    {
     "data": {
      "image/png": "[encoded data removed]",
      "text/plain": [
       "<Figure size 432x288 with 1 Axes>"
      ]
     },
     "metadata": {
      "needs_background": "light"
     },
     "output_type": "display_data"
    }
   ],
   "source": [
    "# Selecting features\n",
    "X = data[['AGE','LIMIT_BAL','SEX_male', 'EDUCATION_graduate school', 'EDUCATION_university', 'EDUCATION_high school']]\n",
    "\n",
    "# Selecting dependent variable\n",
    "y = data['DEF_PAY_default']\n",
    "\n",
    "# Train/Test Split\n",
    "X_train, X_test, y_train, y_test = train_test_split(X, y, test_size = 0.30, random_state=125)\n",
    "\n",
    "# Modelling(Classification)\n",
    "algo = GradientBoostingClassifier()\n",
    "model = algo.fit(X_train, y_train)\n",
    "\n",
    "# Predicts probabilities and keep them for the positive outcome only\n",
    "y_scores = model.predict_proba(X_test)[:,1]\n",
    "\n",
    "# Calculates precision-recall curves\n",
    "precision, recall, thresholds = precision_recall_curve(y_test, y_scores)\n",
    "\n",
    "# Converts to f score\n",
    "fscore = (2 * precision * recall) / (precision + recall)\n",
    "\n",
    "# Locates the index of the largest f score\n",
    "ix = argmax(fscore)\n",
    "print('Best Threshold=%f, F-Score=%.3f' % (thresholds[ix], fscore[ix]))\n",
    "\n",
    "# Plot the precision-recall curve for the model\n",
    "no_skill = len(y_test[y_test==1]) / len(y_test)\n",
    "plt.plot([0,1], [no_skill,no_skill], linestyle='--', label='No Skill')\n",
    "plt.plot(recall, precision, marker='.', label='Logistic')\n",
    "plt.scatter(recall[ix], precision[ix], marker='o', color='black', label='Best')\n",
    "plt.xlabel('Recall')\n",
    "plt.ylabel('Precision')\n",
    "plt.legend()\n",
    "plt.show()"
   ]
  },
  {
   "cell_type": "markdown",
   "id": "0ab65d1d",
   "metadata": {},
   "source": [
    "In this case, it indicates that the best threshold is 0.226, a number quite similar to that given by the ROC-AUC.\n",
    "\n",
    "With this information, the next step is to create a function that modifies the predictions based on the desired threshold. And later a function is created that plots the classifcation-report and the confusion matrix of a model taking as parameters a dataframe and a threshold. In this way, different variable names are incorporated into the function that can store different dataframes that may be of interest throughout the report.This function also incorporates some important information that must be taken into account when fine-tuning a model and modifying the threshold :\n",
    "\n",
    "&nbsp;"
   ]
  },
  {
   "cell_type": "code",
   "execution_count": 22,
   "id": "81dbb2d3",
   "metadata": {},
   "outputs": [],
   "source": [
    "def adjusted_classes(y_scores, t):\n",
    "    \"\"\"\n",
    "    This function adjusts class predictions based on the prediction threshold (t).\n",
    "    Will only work for binary classification problems.\n",
    "    \"\"\"\n",
    "    return [1 if y >= t else 0 for y in y_scores]\n"
   ]
  },
  {
   "cell_type": "code",
   "execution_count": 23,
   "id": "cc2d9e29",
   "metadata": {},
   "outputs": [],
   "source": [
    "def classification_matrix_report(dataframe, t=0.5):\n",
    "    \"\"\"\n",
    "    shows the classification report and the confusion matrix for each classifier\n",
    "    by identifying the classifier's threshold(t).\n",
    "    \"\"\"\n",
    "    # generate new class predictions based on the adjusted_classes\n",
    "    # function above and view the resulting confusion matrix.\n",
    "    preds = adjusted_classes(y_scores, t)\n",
    "    print(classification_report(y_test, preds))\n",
    "    df = pd.DataFrame(confusion_matrix(y_test, preds),\n",
    "                       columns=['pred_neg', 'pred_pos'], \n",
    "                       index=['neg', 'pos'])\n",
    "    \n",
    "   \n",
    "    \n",
    "    if (dataframe is data):\n",
    "        total = df.sum().sum()\n",
    "        marked_pos = np.round((df['pred_pos'].sum())/total*100,decimals=1)\n",
    "        actual_pos = np.round(((df['pred_neg'][1]+df['pred_pos'][1])/total)*100,decimals=1)\n",
    "        missed_pos = np.round((df['pred_neg'][1]/(df['pred_neg'][1]+df['pred_pos'][1]))*100,decimals=1)\n",
    "        actual_pos = np.round((df['pred_pos'][1]/(df['pred_pos'][0]+df['pred_pos'][1]))*100,decimals=1)\n",
    "        final_def_perc = np.round(((df['pred_neg'][1])/total)*100,decimals=1)\n",
    "        cust_perc = 100-marked_pos\n",
    "        print(df,'\\n')\n",
    "        print('Actual positives in the data set:{}%'.format(actual_pos))\n",
    "        print('Marked as positive by the algorithm:{}%'.format(marked_pos))\n",
    "        print('Actual positives inside the marked as positive: {}%'.format(actual_pos))\n",
    "        print('Currently missed positives of the total actual positives: {}\\n'.format(missed_pos))\n",
    "        print('The final default rate after applying this algorithm could be: {}%'.format(final_def_perc))\n",
    "        print('The number of customers would be reduced in comparison to the current number to a {}%'.format(cust_perc))\n",
    "    \n",
    "   \n",
    "    elif dataframe is data2:\n",
    "        total = df.sum().sum()\n",
    "        marked_pos = np.round((df['pred_pos'].sum())/total*100,decimals=1)\n",
    "        actual_pos = np.round(((df['pred_neg'][1]+df['pred_pos'][1])/total)*100,decimals=1)\n",
    "        missed_pos = np.round((df['pred_neg'][1]/(df['pred_neg'][1]+df['pred_pos'][1]))*100,decimals=1)\n",
    "        actual_pos2 = np.round((df['pred_pos'][1]/(df['pred_pos'][0]+df['pred_pos'][1]))*100,decimals=1)\n",
    "        global final_def_perc2\n",
    "        final_def_perc2 = np.round(((df['pred_neg'][1])/total)*100,decimals=1)\n",
    "        data2_numb = len(data2)-(marked_pos*len(data2))/100\n",
    "        global data2_perc \n",
    "        data2_perc = np.round(data2_numb/len(data2)*100,decimals=1)\n",
    "        print(df,'\\n')\n",
    "        print('Actual positives in the data set:{}%'.format(actual_pos))\n",
    "        print('Marked as positive by the algorithm:{}%'.format(marked_pos))\n",
    "        print('Actual positives inside the marked as positive: {}%'.format(actual_pos2))\n",
    "        print('Currently missed positives of the total actual positives: {}\\n'.format(missed_pos))\n",
    "        print('The final default rate after applying this algorithm could be: {}%'.format(final_def_perc2))\n",
    "        print('The number of customers would be reduced in comparison to the current number to a {}%'.format(data2_perc))\n",
    "    \n",
    "    \n",
    "    elif dataframe is data3:\n",
    "        total = df.sum().sum()\n",
    "        marked_pos = np.round((df['pred_pos'].sum())/total*100,decimals=1)\n",
    "        actual_pos = np.round(((df['pred_neg'][1]+df['pred_pos'][1])/total)*100,decimals=1)\n",
    "        missed_pos = np.round((df['pred_neg'][1]/(df['pred_neg'][1]+df['pred_pos'][1]))*100,decimals=1)\n",
    "        actual_pos3 = np.round((df['pred_pos'][1]/(df['pred_pos'][0]+df['pred_pos'][1]))*100,decimals=1)\n",
    "        global final_def_perc3\n",
    "        final_def_perc3 = np.round(((df['pred_neg'][1])/total)*100,decimals=1)\n",
    "        data3_numb = len(data3)-(marked_pos*len(data3))/100\n",
    "        global data3_perc \n",
    "        data3_perc = np.round(data3_numb/len(data3)*100,decimals=1)\n",
    "        print(df,'\\n')\n",
    "        print('Actual positives in the data set:{}%'.format(actual_pos))\n",
    "        print('Marked as positive by the algorithm:{}%'.format(marked_pos))\n",
    "        print('Actual positives inside the marked as positive: {}%'.format(actual_pos3))\n",
    "        print('Currently missed positives of the total actual positives: {}\\n'.format(missed_pos))\n",
    "        print('The final default rate after applying this algorithm could be: {}%'.format(final_def_perc3))\n",
    "        print('The number of customers would be reduced in comparison to the current number to a {}%'.format(data3_perc))\n",
    "        \n",
    "    elif dataframe is data4:\n",
    "        total = df.sum().sum()\n",
    "        marked_pos = np.round((df['pred_pos'].sum())/total*100,decimals=1)\n",
    "        actual_pos = np.round(((df['pred_neg'][1]+df['pred_pos'][1])/total)*100,decimals=1)\n",
    "        missed_pos = np.round((df['pred_neg'][1]/(df['pred_neg'][1]+df['pred_pos'][1]))*100,decimals=1)\n",
    "        actual_pos4 = np.round((df['pred_pos'][1]/(df['pred_pos'][0]+df['pred_pos'][1]))*100,decimals=1)\n",
    "        global final_def_perc4\n",
    "        final_def_perc4 = np.round(((df['pred_neg'][1])/total)*100,decimals=1)\n",
    "        data4_numb = len(data4)-(marked_pos*len(data4))/100\n",
    "        global data4_perc \n",
    "        data4_perc = np.round(data4_numb/len(data4)*100,decimals=1)\n",
    "        print(df,'\\n')\n",
    "        print('Actual positives in the data set:{}%'.format(actual_pos))\n",
    "        print('Marked as positive by the algorithm:{}%'.format(marked_pos))\n",
    "        print('Actual positives inside the marked as positive: {}%'.format(actual_pos4))\n",
    "        print('Currently missed positives of the total actual positives: {}\\n'.format(missed_pos))\n",
    "        print('The final default rate after applying this algorithm could be: {}%'.format(final_def_perc4))\n",
    "        print('The number of customers would be reduced in comparison to the current number to a {}%'.format(data4_perc))\n",
    "    \n",
    "    elif dataframe is data5:\n",
    "        total = df.sum().sum()\n",
    "        marked_pos = np.round((df['pred_pos'].sum())/total*100,decimals=1)\n",
    "        actual_pos = np.round(((df['pred_neg'][1]+df['pred_pos'][1])/total)*100,decimals=1)\n",
    "        missed_pos = np.round((df['pred_neg'][1]/(df['pred_neg'][1]+df['pred_pos'][1]))*100,decimals=1)\n",
    "        actual_pos5 = np.round((df['pred_pos'][1]/(df['pred_pos'][0]+df['pred_pos'][1]))*100,decimals=1)\n",
    "        global final_def_perc5\n",
    "        final_def_perc5 = np.round(((df['pred_neg'][1])/total)*100,decimals=1)\n",
    "        data5_numb = len(data5)-(marked_pos*len(data5))/100\n",
    "        global data5_perc \n",
    "        data5_perc = np.round(data5_numb/len(data5)*100,decimals=1)\n",
    "        print(df,'\\n')\n",
    "        print('Actual positives in the data set:{}%'.format(actual_pos))\n",
    "        print('Marked as positive by the algorithm:{}%'.format(marked_pos))\n",
    "        print('Actual positives inside the marked as positive: {}%'.format(actual_pos5))\n",
    "        print('Currently missed positives of the total actual positives: {}\\n'.format(missed_pos))\n",
    "        print('The final default rate after applying this algorithm could be: {}%'.format(final_def_perc5))\n",
    "        print('The number of customers would be reduced in comparison to the current number to a {}%'.format(data5_perc))\n",
    "    \n",
    "    elif dataframe is data6:\n",
    "        total = df.sum().sum()\n",
    "        marked_pos = np.round((df['pred_pos'].sum())/total*100,decimals=1)\n",
    "        actual_pos = np.round(((df['pred_neg'][1]+df['pred_pos'][1])/total)*100,decimals=1)\n",
    "        missed_pos = np.round((df['pred_neg'][1]/(df['pred_neg'][1]+df['pred_pos'][1]))*100,decimals=1)\n",
    "        actual_pos6 = np.round((df['pred_pos'][1]/(df['pred_pos'][0]+df['pred_pos'][1]))*100,decimals=1)\n",
    "        global final_def_perc6\n",
    "        final_def_perc6 = np.round(((df['pred_neg'][1])/total)*100,decimals=1)\n",
    "        data6_numb = len(data6)-(marked_pos*len(data6))/100\n",
    "        global data6_perc \n",
    "        data6_perc = np.round(data6_numb/len(data6)*100,decimals=1)\n",
    "        print(df,'\\n')\n",
    "        print('Actual positives in the data set:{}%'.format(actual_pos))\n",
    "        print('Marked as positive by the algorithm:{}%'.format(marked_pos))\n",
    "        print('Actual positives inside the marked as positive: {}%'.format(actual_pos6))\n",
    "        print('Currently missed positives of the total actual positives: {}\\n'.format(missed_pos))\n",
    "        print('The final default rate after applying this algorithm could be: {}%'.format(final_def_perc6))\n",
    "        print('The number of customers would be reduced in comparison to the current number to a {}%'.format(data6_perc))\n",
    "    \n",
    "    elif dataframe is data7:\n",
    "        total = df.sum().sum()\n",
    "        marked_pos = np.round((df['pred_pos'].sum())/total*100,decimals=1)\n",
    "        actual_pos = np.round(((df['pred_neg'][1]+df['pred_pos'][1])/total)*100,decimals=1)\n",
    "        missed_pos = np.round((df['pred_neg'][1]/(df['pred_neg'][1]+df['pred_pos'][1]))*100,decimals=1)\n",
    "        actual_pos7 = np.round((df['pred_pos'][1]/(df['pred_pos'][0]+df['pred_pos'][1]))*100,decimals=1)\n",
    "        global final_def_perc7\n",
    "        final_def_perc7 = np.round(((df['pred_neg'][1])/total)*100,decimals=1)\n",
    "        data7_numb = len(data7)-(marked_pos*len(data7))/100\n",
    "        global data7_perc \n",
    "        data7_perc = np.round(data7_numb/len(data7)*100,decimals=1)\n",
    "        print(df,'\\n')\n",
    "        print('Actual positives in the data set:{}%'.format(actual_pos))\n",
    "        print('Marked as positive by the algorithm:{}%'.format(marked_pos))\n",
    "        print('Actual positives inside the marked as positive: {}%'.format(actual_pos7))\n",
    "        print('Currently missed positives of the total actual positives: {}\\n'.format(missed_pos))\n",
    "        print('The final default rate after applying this algorithm could be: {}%'.format(final_def_perc7))\n",
    "        print('The number of customers would be reduced in comparison to the current number to a {}%'.format(data7_perc))\n",
    "    \n",
    "    elif dataframe is data8:\n",
    "        total = df.sum().sum()\n",
    "        marked_pos = np.round((df['pred_pos'].sum())/total*100,decimals=1)\n",
    "        actual_pos = np.round(((df['pred_neg'][1]+df['pred_pos'][1])/total)*100,decimals=1)\n",
    "        missed_pos = np.round((df['pred_neg'][1]/(df['pred_neg'][1]+df['pred_pos'][1]))*100,decimals=1)\n",
    "        actual_pos8 = np.round((df['pred_pos'][1]/(df['pred_pos'][0]+df['pred_pos'][1]))*100,decimals=1)\n",
    "        global final_def_perc8\n",
    "        final_def_perc8 = np.round(((df['pred_neg'][1])/total)*100,decimals=1)\n",
    "        data8_numb = len(data8)-(marked_pos*len(data8))/100\n",
    "        global data8_perc \n",
    "        data8_perc = np.round(data8_numb/len(data8)*100,decimals=1)\n",
    "        print(df,'\\n')\n",
    "        print('Actual positives in the data set:{}%'.format(actual_pos))\n",
    "        print('Marked as positive by the algorithm:{}%'.format(marked_pos))\n",
    "        print('Actual positives inside the marked as positive: {}%'.format(actual_pos8))\n",
    "        print('Currently missed positives of the total actual positives: {}\\n'.format(missed_pos))\n",
    "        print('The final default rate after applying this algorithm could be: {}%'.format(final_def_perc8))\n",
    "        print('The number of customers would be reduced in comparison to the current number to a {}%'.format(data8_perc))\n",
    "    \n",
    "    \n",
    "    \n",
    "        "
   ]
  },
  {
   "cell_type": "code",
   "execution_count": 24,
   "id": "6ae32fc5",
   "metadata": {
    "scrolled": false
   },
   "outputs": [
    {
     "name": "stdout",
     "output_type": "stream",
     "text": [
      "              precision    recall  f1-score   support\n",
      "\n",
      "           0       0.84      0.59      0.69      7019\n",
      "           1       0.30      0.60      0.40      2042\n",
      "\n",
      "    accuracy                           0.59      9061\n",
      "   macro avg       0.57      0.60      0.55      9061\n",
      "weighted avg       0.72      0.59      0.63      9061\n",
      "\n",
      "     pred_neg  pred_pos\n",
      "neg      4156      2863\n",
      "pos       815      1227 \n",
      "\n",
      "Actual positives in the data set:30.0%\n",
      "Marked as positive by the algorithm:45.1%\n",
      "Actual positives inside the marked as positive: 30.0%\n",
      "Currently missed positives of the total actual positives: 39.9\n",
      "\n",
      "The final default rate after applying this algorithm could be: 9.0%\n",
      "The number of customers would be reduced in comparison to the current number to a 54.9%\n"
     ]
    }
   ],
   "source": [
    "# Selecting features\n",
    "X = data[['AGE','LIMIT_BAL','SEX_male', 'EDUCATION_graduate school', 'EDUCATION_university', 'EDUCATION_high school']]\n",
    "\n",
    "# Selecting dependent variable\n",
    "y = data['DEF_PAY_default']\n",
    "\n",
    "# Train/Test Split\n",
    "X_train, X_test, y_train, y_test = train_test_split(X, y, test_size = 0.30, random_state=125)\n",
    "\n",
    "# Modelling(Classification)\n",
    "algo = GradientBoostingClassifier(learning_rate=0.05, n_estimators=161, max_depth=6, min_samples_split=500,min_samples_leaf=100, max_features=3,random_state=10)\n",
    "model = algo.fit(X_train, y_train)\n",
    "y_scores = model.predict_proba(X_test)[:,1]\n",
    "\n",
    "# Calls the function\n",
    "classification_matrix_report(data,0.226)"
   ]
  },
  {
   "cell_type": "markdown",
   "id": "913e786a",
   "metadata": {},
   "source": [
    "Once the threshold indicated by the precision-recall curve has been applied, we observe how it works on our data set:\n",
    "\n",
    "- In the first place, the model marks as positive - default - 45% of the clients, that leaves us with only 55% of the clients we currently have.\n",
    "- On the other hand, it manages to lower the default rate to 9%, starting from the 22.5% that the test section of the data set had.\n",
    "\n",
    "&nbsp;"
   ]
  },
  {
   "cell_type": "code",
   "execution_count": 25,
   "id": "472c9f07",
   "metadata": {
    "scrolled": true
   },
   "outputs": [
    {
     "name": "stdout",
     "output_type": "stream",
     "text": [
      "              precision    recall  f1-score   support\n",
      "\n",
      "           0       0.82      0.65      0.72      7019\n",
      "           1       0.29      0.49      0.37      2042\n",
      "\n",
      "    accuracy                           0.62      9061\n",
      "   macro avg       0.55      0.57      0.55      9061\n",
      "weighted avg       0.70      0.62      0.64      9061\n",
      "\n",
      "     pred_neg  pred_pos\n",
      "neg      4572      2447\n",
      "pos      1032      1010 \n",
      "\n",
      "Actual positives in the data set:29.2%\n",
      "Marked as positive by the algorithm:38.2%\n",
      "Actual positives inside the marked as positive: 29.2%\n",
      "Currently missed positives of the total actual positives: 50.5\n",
      "\n",
      "The final default rate after applying this algorithm could be: 11.4%\n",
      "The number of customers would be reduced in comparison to the current number to a 61.8%\n"
     ]
    }
   ],
   "source": [
    "# Selecting features\n",
    "X = data[['AGE','LIMIT_BAL','SEX_male', 'EDUCATION_graduate school', 'EDUCATION_university', 'EDUCATION_high school']]\n",
    "\n",
    "# Selecting dependent variable\n",
    "y = data['DEF_PAY_default']\n",
    "\n",
    "# Train/Test Split\n",
    "X_train, X_test, y_train, y_test = train_test_split(X, y, test_size = 0.30, random_state=125)\n",
    "\n",
    "# Modelling(Classification)\n",
    "algo = GradientBoostingClassifier(learning_rate=0.1, n_estimators=91, max_depth=10, random_state=10)\n",
    "model = algo.fit(X_train, y_train)\n",
    "y_scores = model.predict_proba(X_test)[:,1]\n",
    "\n",
    "# Calls the function\n",
    "classification_matrix_report(data,0.24)"
   ]
  },
  {
   "cell_type": "markdown",
   "id": "8d046f0f",
   "metadata": {},
   "source": [
    "If we slightly modify the threshold to 0.24 we obtain other data. This time the number of clients that would remain compared to the current one is 61.8% and the default rate of 11.4%.\n",
    "\n",
    "&nbsp;"
   ]
  },
  {
   "cell_type": "code",
   "execution_count": 26,
   "id": "00191374",
   "metadata": {
    "scrolled": true
   },
   "outputs": [
    {
     "name": "stdout",
     "output_type": "stream",
     "text": [
      "              precision    recall  f1-score   support\n",
      "\n",
      "           0       0.83      0.65      0.73      7019\n",
      "           1       0.31      0.56      0.40      2042\n",
      "\n",
      "    accuracy                           0.62      9061\n",
      "   macro avg       0.57      0.60      0.56      9061\n",
      "weighted avg       0.72      0.62      0.65      9061\n",
      "\n",
      "     pred_neg  pred_pos\n",
      "neg      4528      2491\n",
      "pos       907      1135 \n",
      "\n",
      "Actual positives in the data set:31.3%\n",
      "Marked as positive by the algorithm:40.0%\n",
      "Actual positives inside the marked as positive: 31.3%\n",
      "Currently missed positives of the total actual positives: 44.4\n",
      "\n",
      "The final default rate after applying this algorithm could be: 10.0%\n",
      "The number of customers would be reduced in comparison to the current number to a 60.0%\n"
     ]
    }
   ],
   "source": [
    "# Selecting features\n",
    "X = data[['AGE','LIMIT_BAL','SEX_male', 'EDUCATION_graduate school', 'EDUCATION_university', 'EDUCATION_high school']]\n",
    "\n",
    "# Selecting dependent variable\n",
    "y = data['DEF_PAY_default']\n",
    "\n",
    "# Train/Test Split\n",
    "X_train, X_test, y_train, y_test = train_test_split(X, y, test_size = 0.30, random_state=125)\n",
    "\n",
    "# Modelling(Classification)\n",
    "algo = GradientBoostingClassifier(learning_rate=0.05, n_estimators=161, max_depth=6, min_samples_split=500,min_samples_leaf=100, max_features=3,random_state=10)\n",
    "model = algo.fit(X_train, y_train)\n",
    "y_scores = model.predict_proba(X_test)[:,1]\n",
    "\n",
    "# Calls the function\n",
    "classification_matrix_report(data,t=0.24)"
   ]
  },
  {
   "cell_type": "markdown",
   "id": "aa09396c",
   "metadata": {},
   "source": [
    "With the same threshold, an attempt is made to refine the model to further adjust the results and this time a 10% default rate is achieved with a volume of 60% of clients."
   ]
  },
  {
   "cell_type": "code",
   "execution_count": 27,
   "id": "46520fac",
   "metadata": {
    "scrolled": false
   },
   "outputs": [
    {
     "name": "stdout",
     "output_type": "stream",
     "text": [
      "              precision    recall  f1-score   support\n",
      "\n",
      "           0       0.84      0.65      0.73      7090\n",
      "           1       0.30      0.54      0.39      1971\n",
      "\n",
      "    accuracy                           0.63      9061\n",
      "   macro avg       0.57      0.60      0.56      9061\n",
      "weighted avg       0.72      0.63      0.66      9061\n",
      "\n",
      "     pred_neg  pred_pos\n",
      "neg      4639      2451\n",
      "pos       910      1061 \n",
      "\n",
      "Actual positives in the data set:30.2%\n",
      "Marked as positive by the algorithm:38.8%\n",
      "Actual positives inside the marked as positive: 30.2%\n",
      "Currently missed positives of the total actual positives: 46.2\n",
      "\n",
      "The final default rate after applying this algorithm could be: 10.0%\n",
      "The number of customers would be reduced in comparison to the current number to a 61.2%\n"
     ]
    }
   ],
   "source": [
    "# Selecting features\n",
    "X = data[['AGE','LIMIT_BAL','SEX_male', 'EDUCATION_graduate school', 'EDUCATION_university', 'EDUCATION_high school']]\n",
    "\n",
    "# Selecting dependent variable\n",
    "y = data['DEF_PAY_default']\n",
    "\n",
    "# Train/Test Split\n",
    "X_train, X_test, y_train, y_test = train_test_split(X, y, test_size = 0.30, random_state=10)\n",
    "\n",
    "# Modelling(Classification)\n",
    "algo = GradientBoostingClassifier(learning_rate=0.05, n_estimators=161, max_depth=6, min_samples_split=500,min_samples_leaf=100, max_features=3,random_state=10)\n",
    "model = algo.fit(X_train, y_train)\n",
    "y_scores = model.predict_proba(X_test)[:,1]\n",
    "\n",
    "# Calls the function\n",
    "classification_matrix_report(data,0.24)"
   ]
  },
  {
   "cell_type": "markdown",
   "id": "4d7ae110",
   "metadata": {},
   "source": [
    "This time the random state has only been modified to observe what differences would have changed by changing the state of randomness of the train and test data. The results are quite similar, slightly increasing the volume of clients.\n",
    "\n",
    "&nbsp;"
   ]
  },
  {
   "cell_type": "code",
   "execution_count": 28,
   "id": "7d057291",
   "metadata": {},
   "outputs": [],
   "source": [
    "# Uses the function created previously which is nested in the \"classification_matrix_report\"\n",
    "#function to get the array of predictions with the desired threshold\n",
    "preds = adjusted_classes(y_scores, 0.24)\n",
    "\n",
    "# Converts y_test to dataframe type\n",
    "test_frame = Series.to_frame(y_test)\n",
    "\n",
    "# Insert the array containing the predictions made by the function in the DataFrame \n",
    "# with the actual results created previously\n",
    "test_frame.insert(1,'preds',preds)\n",
    "\n",
    "# Using loc creates a new dataframe  with the rows that have 'preds' column equal to 0, that is, \n",
    "# negative class or not default\n",
    "accepted_data = test_frame.loc[test_frame['preds']==0]\n",
    "\n",
    "\n",
    "# Take the indices of this Dataframe since the ones that came from y_test are kept,\n",
    "# which are those of the original dataset\n",
    "index_list = accepted_data.index\n",
    "\n",
    "# Using iloc create a dataframe from the original containing the rows that have been \n",
    "# well predicted\n",
    "df = data.iloc[index_list]"
   ]
  },
  {
   "cell_type": "code",
   "execution_count": 29,
   "id": "34f192e9",
   "metadata": {},
   "outputs": [
    {
     "name": "stderr",
     "output_type": "stream",
     "text": [
      "/var/folders/c0/v_nswb0s4_924rlg1nzgd1z80000gn/T/ipykernel_862/1191611102.py:2: SettingWithCopyWarning: \n",
      "A value is trying to be set on a copy of a slice from a DataFrame.\n",
      "Try using .loc[row_indexer,col_indexer] = value instead\n",
      "\n",
      "See the caveats in the documentation: https://pandas.pydata.org/pandas-docs/stable/user_guide/indexing.html#returning-a-view-versus-a-copy\n",
      "  df['BAL_BINNED'] = pd.cut(df['LIMIT_BAL'], bins=[5000,50000,100000,150000,200000,250000,300000,400000,500000,1000000],\n"
     ]
    }
   ],
   "source": [
    "# Creates a new column by binning the Limit Balance variable\n",
    "df['BAL_BINNED'] = pd.cut(df['LIMIT_BAL'], bins=[5000,50000,100000,150000,200000,250000,300000,400000,500000,1000000],\n",
    "labels=['(5000, 50000]','(50000, 100000]','(100000, 150000]',\n",
    "        '(150000, 200000]','(250000, 300000]','(200000, 250000]',\n",
    "        '(300000, 400000]','(400000, 500000]', ('+500000')])"
   ]
  },
  {
   "cell_type": "markdown",
   "id": "a1c9171d",
   "metadata": {},
   "source": [
    "### Error Analysis<a class='anchor' id='error'></a>"
   ]
  },
  {
   "cell_type": "markdown",
   "id": "1e9461f8",
   "metadata": {},
   "source": [
    "Taking this last built model, the following steps will try to analyze the errors produced in the model. In this way, an attempt is made to further refine the results obtained. First it is necessary to identify the wrong predictions:\n",
    "\n",
    "&nbsp;"
   ]
  },
  {
   "cell_type": "code",
   "execution_count": 30,
   "id": "81514087",
   "metadata": {},
   "outputs": [],
   "source": [
    "# Converts y_test to DataFrame type\n",
    "test_frame = Series.to_frame(y_test)"
   ]
  },
  {
   "cell_type": "code",
   "execution_count": 31,
   "id": "881169d0",
   "metadata": {
    "scrolled": true
   },
   "outputs": [],
   "source": [
    "# Insert the array containing the predictions made by the model in the DataFrame \n",
    "# with the actual results created previously\n",
    "test_frame.insert(1,'preds',preds)"
   ]
  },
  {
   "cell_type": "code",
   "execution_count": 32,
   "id": "056061c1",
   "metadata": {
    "scrolled": true
   },
   "outputs": [
    {
     "name": "stdout",
     "output_type": "stream",
     "text": [
      "       DEF_PAY_default  preds\n",
      "127                  1      1\n",
      "18579                0      0\n",
      "16900                1      0\n",
      "12500                0      0\n",
      "26343                0      0\n",
      "...                ...    ...\n",
      "28987                0      0\n",
      "1062                 0      0\n",
      "15387                0      0\n",
      "10157                0      0\n",
      "19537                0      0\n",
      "\n",
      "[9061 rows x 2 columns]\n"
     ]
    }
   ],
   "source": [
    "# Prints the DataFrame\n",
    "print(test_frame)"
   ]
  },
  {
   "cell_type": "code",
   "execution_count": 33,
   "id": "06adff8b",
   "metadata": {},
   "outputs": [],
   "source": [
    "# Using loc creates a new Dataframe  with the rows that have different results \n",
    "# in both columns, that is, the bad predictions of the model\n",
    "error_frame = test_frame.loc[test_frame['DEF_PAY_default']!=test_frame['preds']]"
   ]
  },
  {
   "cell_type": "code",
   "execution_count": 34,
   "id": "5ee49af6",
   "metadata": {
    "scrolled": true
   },
   "outputs": [
    {
     "name": "stdout",
     "output_type": "stream",
     "text": [
      "<class 'pandas.core.frame.DataFrame'>\n",
      "Int64Index: 3361 entries, 16900 to 27369\n",
      "Data columns (total 2 columns):\n",
      " #   Column           Non-Null Count  Dtype\n",
      "---  ------           --------------  -----\n",
      " 0   DEF_PAY_default  3361 non-null   int64\n",
      " 1   preds            3361 non-null   int64\n",
      "dtypes: int64(2)\n",
      "memory usage: 78.8 KB\n"
     ]
    }
   ],
   "source": [
    "# Information about the Dataframe\n",
    "error_frame.info()"
   ]
  },
  {
   "cell_type": "code",
   "execution_count": 35,
   "id": "4706ea19",
   "metadata": {},
   "outputs": [],
   "source": [
    "# Take the indices of this Dataframe since the ones that came from y_test are kept,\n",
    "# which are those of the original dataset\n",
    "index_list = error_frame.index"
   ]
  },
  {
   "cell_type": "code",
   "execution_count": 36,
   "id": "355526b0",
   "metadata": {},
   "outputs": [],
   "source": [
    "# Using iloc create a dataframe from the original containing the rows that have been \n",
    "# wrongly predicted\n",
    "data_error_frame = data.iloc[index_list]"
   ]
  },
  {
   "cell_type": "markdown",
   "id": "0725c298",
   "metadata": {},
   "source": [
    "&nbsp;\n",
    "\n",
    "Once a data frame with the wrong predictions identified has been created, a brief exploration is made to detect differences and interesting elements with respect to the general data:\n",
    "\n",
    "&nbsp;"
   ]
  },
  {
   "cell_type": "code",
   "execution_count": 37,
   "id": "20bd4977",
   "metadata": {},
   "outputs": [
    {
     "data": {
      "text/plain": [
       "0    72.92\n",
       "1    27.08\n",
       "Name: DEF_PAY_default, dtype: float64"
      ]
     },
     "execution_count": 37,
     "metadata": {},
     "output_type": "execute_result"
    }
   ],
   "source": [
    "# Prints the not default/default rates of the error dataframe\n",
    "np.round(data_error_frame['DEF_PAY_default'].value_counts(normalize=True)*100,decimals=2)"
   ]
  },
  {
   "cell_type": "code",
   "execution_count": 38,
   "id": "46c55fb7",
   "metadata": {},
   "outputs": [
    {
     "data": {
      "text/html": [
       "<div>\n",
       "<style scoped>\n",
       "    .dataframe tbody tr th:only-of-type {\n",
       "        vertical-align: middle;\n",
       "    }\n",
       "\n",
       "    .dataframe tbody tr th {\n",
       "        vertical-align: top;\n",
       "    }\n",
       "\n",
       "    .dataframe thead th {\n",
       "        text-align: right;\n",
       "    }\n",
       "</style>\n",
       "<table border=\"1\" class=\"dataframe\">\n",
       "  <thead>\n",
       "    <tr style=\"text-align: right;\">\n",
       "      <th></th>\n",
       "      <th>ID</th>\n",
       "      <th>LIMIT_BAL</th>\n",
       "      <th>MARRIAGE</th>\n",
       "      <th>AGE</th>\n",
       "      <th>SEP_PAY1</th>\n",
       "      <th>AUG_PAY2</th>\n",
       "      <th>JUL_PAY3</th>\n",
       "      <th>JUN_PAY4</th>\n",
       "      <th>MAY_PAY5</th>\n",
       "      <th>APR_PAY6</th>\n",
       "      <th>...</th>\n",
       "      <th>APR_PAYB6</th>\n",
       "      <th>SEX_female</th>\n",
       "      <th>SEX_male</th>\n",
       "      <th>EDUCATION_graduate school</th>\n",
       "      <th>EDUCATION_high school</th>\n",
       "      <th>EDUCATION_other</th>\n",
       "      <th>EDUCATION_university</th>\n",
       "      <th>DEF_PAY_default</th>\n",
       "      <th>DEF_PAY_not default</th>\n",
       "      <th>BAL_DIF</th>\n",
       "    </tr>\n",
       "  </thead>\n",
       "  <tbody>\n",
       "    <tr>\n",
       "      <th>count</th>\n",
       "      <td>3361.000000</td>\n",
       "      <td>3361.000000</td>\n",
       "      <td>3361.000000</td>\n",
       "      <td>3361.000000</td>\n",
       "      <td>3361.000000</td>\n",
       "      <td>3361.000000</td>\n",
       "      <td>3361.000000</td>\n",
       "      <td>3361.000000</td>\n",
       "      <td>3361.000000</td>\n",
       "      <td>3361.000000</td>\n",
       "      <td>...</td>\n",
       "      <td>3361.000000</td>\n",
       "      <td>3361.000000</td>\n",
       "      <td>3361.000000</td>\n",
       "      <td>3361.000000</td>\n",
       "      <td>3361.000000</td>\n",
       "      <td>3361.000000</td>\n",
       "      <td>3361.000000</td>\n",
       "      <td>3361.000000</td>\n",
       "      <td>3361.000000</td>\n",
       "      <td>3361.000000</td>\n",
       "    </tr>\n",
       "    <tr>\n",
       "      <th>mean</th>\n",
       "      <td>14456.559060</td>\n",
       "      <td>106348.110681</td>\n",
       "      <td>1.557572</td>\n",
       "      <td>35.735495</td>\n",
       "      <td>0.185659</td>\n",
       "      <td>0.076465</td>\n",
       "      <td>0.036001</td>\n",
       "      <td>-0.038976</td>\n",
       "      <td>-0.126450</td>\n",
       "      <td>-0.167807</td>\n",
       "      <td>...</td>\n",
       "      <td>3118.241595</td>\n",
       "      <td>0.531389</td>\n",
       "      <td>0.468611</td>\n",
       "      <td>0.282059</td>\n",
       "      <td>0.182089</td>\n",
       "      <td>0.003273</td>\n",
       "      <td>0.532580</td>\n",
       "      <td>0.270753</td>\n",
       "      <td>0.729247</td>\n",
       "      <td>-55738.053853</td>\n",
       "    </tr>\n",
       "    <tr>\n",
       "      <th>std</th>\n",
       "      <td>8709.364861</td>\n",
       "      <td>101162.605890</td>\n",
       "      <td>0.534831</td>\n",
       "      <td>9.856045</td>\n",
       "      <td>1.073511</td>\n",
       "      <td>1.225152</td>\n",
       "      <td>1.192317</td>\n",
       "      <td>1.152365</td>\n",
       "      <td>1.097787</td>\n",
       "      <td>1.123525</td>\n",
       "      <td>...</td>\n",
       "      <td>11640.890067</td>\n",
       "      <td>0.499088</td>\n",
       "      <td>0.499088</td>\n",
       "      <td>0.450069</td>\n",
       "      <td>0.385975</td>\n",
       "      <td>0.057124</td>\n",
       "      <td>0.499012</td>\n",
       "      <td>0.444415</td>\n",
       "      <td>0.444415</td>\n",
       "      <td>93870.211357</td>\n",
       "    </tr>\n",
       "    <tr>\n",
       "      <th>min</th>\n",
       "      <td>4.000000</td>\n",
       "      <td>10000.000000</td>\n",
       "      <td>0.000000</td>\n",
       "      <td>21.000000</td>\n",
       "      <td>-2.000000</td>\n",
       "      <td>-2.000000</td>\n",
       "      <td>-2.000000</td>\n",
       "      <td>-2.000000</td>\n",
       "      <td>-2.000000</td>\n",
       "      <td>-2.000000</td>\n",
       "      <td>...</td>\n",
       "      <td>0.000000</td>\n",
       "      <td>0.000000</td>\n",
       "      <td>0.000000</td>\n",
       "      <td>0.000000</td>\n",
       "      <td>0.000000</td>\n",
       "      <td>0.000000</td>\n",
       "      <td>0.000000</td>\n",
       "      <td>0.000000</td>\n",
       "      <td>0.000000</td>\n",
       "      <td>-701374.000000</td>\n",
       "    </tr>\n",
       "    <tr>\n",
       "      <th>25%</th>\n",
       "      <td>6977.000000</td>\n",
       "      <td>40000.000000</td>\n",
       "      <td>1.000000</td>\n",
       "      <td>27.000000</td>\n",
       "      <td>0.000000</td>\n",
       "      <td>0.000000</td>\n",
       "      <td>0.000000</td>\n",
       "      <td>-1.000000</td>\n",
       "      <td>-1.000000</td>\n",
       "      <td>-1.000000</td>\n",
       "      <td>...</td>\n",
       "      <td>0.000000</td>\n",
       "      <td>0.000000</td>\n",
       "      <td>0.000000</td>\n",
       "      <td>0.000000</td>\n",
       "      <td>0.000000</td>\n",
       "      <td>0.000000</td>\n",
       "      <td>0.000000</td>\n",
       "      <td>0.000000</td>\n",
       "      <td>0.000000</td>\n",
       "      <td>-69029.000000</td>\n",
       "    </tr>\n",
       "    <tr>\n",
       "      <th>50%</th>\n",
       "      <td>14019.000000</td>\n",
       "      <td>70000.000000</td>\n",
       "      <td>2.000000</td>\n",
       "      <td>34.000000</td>\n",
       "      <td>0.000000</td>\n",
       "      <td>0.000000</td>\n",
       "      <td>0.000000</td>\n",
       "      <td>0.000000</td>\n",
       "      <td>0.000000</td>\n",
       "      <td>0.000000</td>\n",
       "      <td>...</td>\n",
       "      <td>1000.000000</td>\n",
       "      <td>1.000000</td>\n",
       "      <td>0.000000</td>\n",
       "      <td>0.000000</td>\n",
       "      <td>0.000000</td>\n",
       "      <td>0.000000</td>\n",
       "      <td>1.000000</td>\n",
       "      <td>0.000000</td>\n",
       "      <td>1.000000</td>\n",
       "      <td>-16895.000000</td>\n",
       "    </tr>\n",
       "    <tr>\n",
       "      <th>75%</th>\n",
       "      <td>21651.000000</td>\n",
       "      <td>140000.000000</td>\n",
       "      <td>2.000000</td>\n",
       "      <td>42.000000</td>\n",
       "      <td>1.000000</td>\n",
       "      <td>0.000000</td>\n",
       "      <td>0.000000</td>\n",
       "      <td>0.000000</td>\n",
       "      <td>0.000000</td>\n",
       "      <td>0.000000</td>\n",
       "      <td>...</td>\n",
       "      <td>2610.000000</td>\n",
       "      <td>1.000000</td>\n",
       "      <td>1.000000</td>\n",
       "      <td>1.000000</td>\n",
       "      <td>0.000000</td>\n",
       "      <td>0.000000</td>\n",
       "      <td>1.000000</td>\n",
       "      <td>1.000000</td>\n",
       "      <td>1.000000</td>\n",
       "      <td>-737.000000</td>\n",
       "    </tr>\n",
       "    <tr>\n",
       "      <th>max</th>\n",
       "      <td>29991.000000</td>\n",
       "      <td>710000.000000</td>\n",
       "      <td>3.000000</td>\n",
       "      <td>75.000000</td>\n",
       "      <td>8.000000</td>\n",
       "      <td>8.000000</td>\n",
       "      <td>7.000000</td>\n",
       "      <td>7.000000</td>\n",
       "      <td>7.000000</td>\n",
       "      <td>7.000000</td>\n",
       "      <td>...</td>\n",
       "      <td>345293.000000</td>\n",
       "      <td>1.000000</td>\n",
       "      <td>1.000000</td>\n",
       "      <td>1.000000</td>\n",
       "      <td>1.000000</td>\n",
       "      <td>1.000000</td>\n",
       "      <td>1.000000</td>\n",
       "      <td>1.000000</td>\n",
       "      <td>1.000000</td>\n",
       "      <td>302827.000000</td>\n",
       "    </tr>\n",
       "  </tbody>\n",
       "</table>\n",
       "<p>8 rows × 31 columns</p>\n",
       "</div>"
      ],
      "text/plain": [
       "                 ID      LIMIT_BAL     MARRIAGE          AGE     SEP_PAY1  \\\n",
       "count   3361.000000    3361.000000  3361.000000  3361.000000  3361.000000   \n",
       "mean   14456.559060  106348.110681     1.557572    35.735495     0.185659   \n",
       "std     8709.364861  101162.605890     0.534831     9.856045     1.073511   \n",
       "min        4.000000   10000.000000     0.000000    21.000000    -2.000000   \n",
       "25%     6977.000000   40000.000000     1.000000    27.000000     0.000000   \n",
       "50%    14019.000000   70000.000000     2.000000    34.000000     0.000000   \n",
       "75%    21651.000000  140000.000000     2.000000    42.000000     1.000000   \n",
       "max    29991.000000  710000.000000     3.000000    75.000000     8.000000   \n",
       "\n",
       "          AUG_PAY2     JUL_PAY3     JUN_PAY4     MAY_PAY5     APR_PAY6  ...  \\\n",
       "count  3361.000000  3361.000000  3361.000000  3361.000000  3361.000000  ...   \n",
       "mean      0.076465     0.036001    -0.038976    -0.126450    -0.167807  ...   \n",
       "std       1.225152     1.192317     1.152365     1.097787     1.123525  ...   \n",
       "min      -2.000000    -2.000000    -2.000000    -2.000000    -2.000000  ...   \n",
       "25%       0.000000     0.000000    -1.000000    -1.000000    -1.000000  ...   \n",
       "50%       0.000000     0.000000     0.000000     0.000000     0.000000  ...   \n",
       "75%       0.000000     0.000000     0.000000     0.000000     0.000000  ...   \n",
       "max       8.000000     7.000000     7.000000     7.000000     7.000000  ...   \n",
       "\n",
       "           APR_PAYB6   SEX_female     SEX_male  EDUCATION_graduate school  \\\n",
       "count    3361.000000  3361.000000  3361.000000                3361.000000   \n",
       "mean     3118.241595     0.531389     0.468611                   0.282059   \n",
       "std     11640.890067     0.499088     0.499088                   0.450069   \n",
       "min         0.000000     0.000000     0.000000                   0.000000   \n",
       "25%         0.000000     0.000000     0.000000                   0.000000   \n",
       "50%      1000.000000     1.000000     0.000000                   0.000000   \n",
       "75%      2610.000000     1.000000     1.000000                   1.000000   \n",
       "max    345293.000000     1.000000     1.000000                   1.000000   \n",
       "\n",
       "       EDUCATION_high school  EDUCATION_other  EDUCATION_university  \\\n",
       "count            3361.000000      3361.000000           3361.000000   \n",
       "mean                0.182089         0.003273              0.532580   \n",
       "std                 0.385975         0.057124              0.499012   \n",
       "min                 0.000000         0.000000              0.000000   \n",
       "25%                 0.000000         0.000000              0.000000   \n",
       "50%                 0.000000         0.000000              1.000000   \n",
       "75%                 0.000000         0.000000              1.000000   \n",
       "max                 1.000000         1.000000              1.000000   \n",
       "\n",
       "       DEF_PAY_default  DEF_PAY_not default        BAL_DIF  \n",
       "count      3361.000000          3361.000000    3361.000000  \n",
       "mean          0.270753             0.729247  -55738.053853  \n",
       "std           0.444415             0.444415   93870.211357  \n",
       "min           0.000000             0.000000 -701374.000000  \n",
       "25%           0.000000             0.000000  -69029.000000  \n",
       "50%           0.000000             1.000000  -16895.000000  \n",
       "75%           1.000000             1.000000    -737.000000  \n",
       "max           1.000000             1.000000  302827.000000  \n",
       "\n",
       "[8 rows x 31 columns]"
      ]
     },
     "execution_count": 38,
     "metadata": {},
     "output_type": "execute_result"
    }
   ],
   "source": [
    "# Shows descriptive statistics of error dataframe\n",
    "data_error_frame.describe()"
   ]
  },
  {
   "cell_type": "code",
   "execution_count": 39,
   "id": "ff922dee",
   "metadata": {},
   "outputs": [
    {
     "data": {
      "text/plain": [
       "1    53.14\n",
       "0    46.86\n",
       "Name: SEX_female, dtype: float64"
      ]
     },
     "execution_count": 39,
     "metadata": {},
     "output_type": "execute_result"
    }
   ],
   "source": [
    "# Prints the female/male rates of the error frame\n",
    "np.round(data_error_frame['SEX_female'].value_counts(normalize=True)*100,decimals=2)"
   ]
  },
  {
   "cell_type": "code",
   "execution_count": 40,
   "id": "7360ffb6",
   "metadata": {},
   "outputs": [
    {
     "data": {
      "text/plain": [
       "0    81.79\n",
       "1    18.21\n",
       "Name: EDUCATION_high school, dtype: float64"
      ]
     },
     "execution_count": 40,
     "metadata": {},
     "output_type": "execute_result"
    }
   ],
   "source": [
    "# Prints the Education_high school variable rates\n",
    "np.round(data_error_frame['EDUCATION_high school'].value_counts(normalize=True)*100,decimals=2)"
   ]
  },
  {
   "cell_type": "code",
   "execution_count": 41,
   "id": "49715386",
   "metadata": {},
   "outputs": [
    {
     "data": {
      "text/plain": [
       "0    71.79\n",
       "1    28.21\n",
       "Name: EDUCATION_graduate school, dtype: float64"
      ]
     },
     "execution_count": 41,
     "metadata": {},
     "output_type": "execute_result"
    }
   ],
   "source": [
    "# Prints the Education_graduate school variable rates\n",
    "np.round(data_error_frame['EDUCATION_graduate school'].value_counts(normalize=True)*100,decimals=2)"
   ]
  },
  {
   "cell_type": "code",
   "execution_count": 42,
   "id": "76ec9d75",
   "metadata": {},
   "outputs": [
    {
     "data": {
      "text/plain": [
       "1    53.26\n",
       "0    46.74\n",
       "Name: EDUCATION_university, dtype: float64"
      ]
     },
     "execution_count": 42,
     "metadata": {},
     "output_type": "execute_result"
    }
   ],
   "source": [
    "# Prints the Education_university variable rates\n",
    "np.round(data_error_frame['EDUCATION_university'].value_counts(normalize=True)*100,decimals=2)"
   ]
  },
  {
   "cell_type": "code",
   "execution_count": 43,
   "id": "184a50ce",
   "metadata": {},
   "outputs": [
    {
     "data": {
      "text/plain": [
       "2    52.63\n",
       "1    45.40\n",
       "3     1.70\n",
       "0     0.27\n",
       "Name: MARRIAGE, dtype: float64"
      ]
     },
     "execution_count": 43,
     "metadata": {},
     "output_type": "execute_result"
    }
   ],
   "source": [
    "# Prints the marriage variable rates\n",
    "np.round(data_error_frame['MARRIAGE'].value_counts(normalize=True)*100,decimals=2)"
   ]
  },
  {
   "cell_type": "code",
   "execution_count": 44,
   "id": "1f21371d",
   "metadata": {
    "scrolled": true
   },
   "outputs": [
    {
     "data": {
      "text/plain": [
       "Text(0.5, 1.0, 'Data Age Distribution')"
      ]
     },
     "execution_count": 44,
     "metadata": {},
     "output_type": "execute_result"
    },
    {
     "data": {
      "image/png": "[encoded data removed]",
      "text/plain": [
       "<Figure size 1080x648 with 4 Axes>"
      ]
     },
     "metadata": {
      "needs_background": "light"
     },
     "output_type": "display_data"
    }
   ],
   "source": [
    "# Plots a comparison between the distribution of age variable in the original \n",
    "# dataset and the error dataset\n",
    "\n",
    "fig, axes = plt.subplots(2,2, figsize=(15,9))\n",
    "ax1 = sns.histplot(data=data_error_frame, x='AGE', kde=True, bins=20, ax=axes[0][0])\n",
    "ax2 = sns.histplot(data=data, x='AGE', kde=True, bins=20, ax=axes[0][1])\n",
    "ax1.set_title('Error Data Age Distribution', fontsize=20)\n",
    "ax2.set_title('Data Age Distribution', fontsize=20)"
   ]
  },
  {
   "cell_type": "code",
   "execution_count": 45,
   "id": "87a68b7c",
   "metadata": {
    "scrolled": true
   },
   "outputs": [
    {
     "data": {
      "text/plain": [
       "21-31    0.410570\n",
       "31-41    0.312929\n",
       "41-51    0.201553\n",
       "51-61    0.065691\n",
       "61-71    0.008361\n",
       "71-81    0.000896\n",
       "Name: AGE_BINNED, dtype: float64"
      ]
     },
     "execution_count": 45,
     "metadata": {},
     "output_type": "execute_result"
    }
   ],
   "source": [
    "# Prints the age_binned variable rates\n",
    "data_error_frame['AGE_BINNED'].value_counts(normalize=True)"
   ]
  },
  {
   "cell_type": "markdown",
   "id": "6bf55e3d",
   "metadata": {},
   "source": [
    "So far, the examination shows percentages similar to the general ones, although in the age distribution it is appreciated that in some small age ranges more errors occur than in others. Even so, in the ten-year intervals created, the percentages are still quite similar.\n",
    "\n",
    "Before continuing with the analysis of the errors, a new dataframe is created, this time only with the false negatives, that is, with those errors that mean predicting a not default that is actually a default. Since in reality this type of error interests us a little more to detect:\n",
    "\n",
    "&nbsp;"
   ]
  },
  {
   "cell_type": "code",
   "execution_count": 46,
   "id": "822c3b0f",
   "metadata": {},
   "outputs": [],
   "source": [
    "# Using loc creates a new Dataframe  with the rows that have a false negative error concretely \n",
    "error_frame2 = test_frame.loc[(test_frame['DEF_PAY_default']==1)&(test_frame['preds']==0)]"
   ]
  },
  {
   "cell_type": "code",
   "execution_count": 47,
   "id": "0113d86f",
   "metadata": {},
   "outputs": [],
   "source": [
    "# Take the indices of this Dataframe since the ones that came from y_test are kept,\n",
    "# which are those of the original dataset\n",
    "index_list2 = error_frame2.index"
   ]
  },
  {
   "cell_type": "code",
   "execution_count": 48,
   "id": "f86d81e4",
   "metadata": {},
   "outputs": [],
   "source": [
    "# Using iloc create a dataframe from the original containing the rows that have been \n",
    "# wrongly predicted\n",
    "data_error_frame2 = data.iloc[index_list2]"
   ]
  },
  {
   "cell_type": "code",
   "execution_count": 49,
   "id": "3ba034c3",
   "metadata": {
    "scrolled": true
   },
   "outputs": [
    {
     "name": "stdout",
     "output_type": "stream",
     "text": [
      "<class 'pandas.core.frame.DataFrame'>\n",
      "Int64Index: 910 entries, 16900 to 7716\n",
      "Data columns (total 33 columns):\n",
      " #   Column                     Non-Null Count  Dtype   \n",
      "---  ------                     --------------  -----   \n",
      " 0   ID                         910 non-null    int64   \n",
      " 1   LIMIT_BAL                  910 non-null    int64   \n",
      " 2   MARRIAGE                   910 non-null    int64   \n",
      " 3   AGE                        910 non-null    int64   \n",
      " 4   SEP_PAY1                   910 non-null    int64   \n",
      " 5   AUG_PAY2                   910 non-null    int64   \n",
      " 6   JUL_PAY3                   910 non-null    int64   \n",
      " 7   JUN_PAY4                   910 non-null    int64   \n",
      " 8   MAY_PAY5                   910 non-null    int64   \n",
      " 9   APR_PAY6                   910 non-null    int64   \n",
      " 10  SEP_BILL1                  910 non-null    int64   \n",
      " 11  AUG_BILL2                  910 non-null    int64   \n",
      " 12  JUL_BILL3                  910 non-null    int64   \n",
      " 13  JUN_BILL4                  910 non-null    int64   \n",
      " 14  MAY_BILL5                  910 non-null    int64   \n",
      " 15  APR_BILL6                  910 non-null    int64   \n",
      " 16  SEP_PAYB1                  910 non-null    int64   \n",
      " 17  AUG_PAYB2                  910 non-null    int64   \n",
      " 18  JUL_PAYB3                  910 non-null    int64   \n",
      " 19  JUN_PAYB4                  910 non-null    int64   \n",
      " 20  MAY_PAYB5                  910 non-null    int64   \n",
      " 21  APR_PAYB6                  910 non-null    int64   \n",
      " 22  SEX_female                 910 non-null    int64   \n",
      " 23  SEX_male                   910 non-null    int64   \n",
      " 24  EDUCATION_graduate school  910 non-null    int64   \n",
      " 25  EDUCATION_high school      910 non-null    int64   \n",
      " 26  EDUCATION_other            910 non-null    int64   \n",
      " 27  EDUCATION_university       910 non-null    int64   \n",
      " 28  DEF_PAY_default            910 non-null    int64   \n",
      " 29  DEF_PAY_not default        910 non-null    int64   \n",
      " 30  AGE_BINNED                 910 non-null    category\n",
      " 31  BAL_BINNED                 910 non-null    category\n",
      " 32  BAL_DIF                    910 non-null    int64   \n",
      "dtypes: category(2), int64(31)\n",
      "memory usage: 229.9 KB\n"
     ]
    }
   ],
   "source": [
    "# Information about the Dataframe\n",
    "data_error_frame2.info()"
   ]
  },
  {
   "cell_type": "code",
   "execution_count": 50,
   "id": "e09d64a9",
   "metadata": {
    "scrolled": true
   },
   "outputs": [
    {
     "data": {
      "text/plain": [
       "1    0.657143\n",
       "0    0.342857\n",
       "Name: SEX_female, dtype: float64"
      ]
     },
     "execution_count": 50,
     "metadata": {},
     "output_type": "execute_result"
    }
   ],
   "source": [
    "# Prints the female/male rates of the error frame\n",
    "data_error_frame2['SEX_female'].value_counts(normalize=True)"
   ]
  },
  {
   "cell_type": "code",
   "execution_count": 51,
   "id": "4bd87ad8",
   "metadata": {
    "scrolled": true
   },
   "outputs": [
    {
     "data": {
      "text/plain": [
       "0    0.557143\n",
       "1    0.442857\n",
       "Name: EDUCATION_university, dtype: float64"
      ]
     },
     "execution_count": 51,
     "metadata": {},
     "output_type": "execute_result"
    }
   ],
   "source": [
    "# Prints the Education_university variable rates\n",
    "data_error_frame2['EDUCATION_university'].value_counts(normalize=True)"
   ]
  },
  {
   "cell_type": "code",
   "execution_count": 52,
   "id": "8e542934",
   "metadata": {
    "scrolled": true
   },
   "outputs": [
    {
     "data": {
      "text/plain": [
       "2    0.510989\n",
       "1    0.479121\n",
       "3    0.008791\n",
       "0    0.001099\n",
       "Name: MARRIAGE, dtype: float64"
      ]
     },
     "execution_count": 52,
     "metadata": {},
     "output_type": "execute_result"
    }
   ],
   "source": [
    "# Prints the marriage variable rates\n",
    "data_error_frame2['MARRIAGE'].value_counts(normalize=True)"
   ]
  },
  {
   "cell_type": "code",
   "execution_count": 53,
   "id": "d60a79d3",
   "metadata": {
    "scrolled": false
   },
   "outputs": [
    {
     "data": {
      "image/png": "[encoded data removed]",
      "text/plain": [
       "<Figure size 1080x648 with 4 Axes>"
      ]
     },
     "metadata": {
      "needs_background": "light"
     },
     "output_type": "display_data"
    }
   ],
   "source": [
    "# Plots a comparison between the distribution of age variable in the original \n",
    "# dataset, the error dataset and the false negatives data set\n",
    "fig, axes = plt.subplots(2,2, figsize=(15,9))\n",
    "ax1 = sns.histplot(data=data_error_frame, x='AGE', kde=True, bins=20, ax=axes[0][0])\n",
    "ax2 = sns.histplot(data=data, x='AGE', kde=True, bins=20, ax=axes[0][1])\n",
    "ax3 = sns.histplot(data=data_error_frame2, x='AGE', kde=True, bins=20, ax=axes[1][0])\n",
    "ax1.set_title('Error Data Age Distribution', fontsize=15)\n",
    "ax2.set_title('Data Age Distribution', fontsize=15)\n",
    "ax3.set_title('False Negatives Data Age Distribution', fontsize=15)\n",
    "plt.subplots_adjust(hspace = 0.3)"
   ]
  },
  {
   "cell_type": "code",
   "execution_count": 54,
   "id": "e382ee53",
   "metadata": {
    "scrolled": false
   },
   "outputs": [
    {
     "data": {
      "image/png": "[encoded data removed]",
      "text/plain": [
       "<Figure size 1080x648 with 4 Axes>"
      ]
     },
     "metadata": {
      "needs_background": "light"
     },
     "output_type": "display_data"
    }
   ],
   "source": [
    "# Plots a comparison between the distribution of Limit Balance variable in the original \n",
    "# dataset, the error dataset and the false negatives data set\n",
    "fig, axes = plt.subplots(2,2, figsize=(15,9))\n",
    "ax1 = sns.histplot(data=data_error_frame, x='LIMIT_BAL', kde=True, bins=20, ax=axes[0][0])\n",
    "ax2 = sns.histplot(data=data, x='LIMIT_BAL', kde=True, bins=20, ax=axes[0][1])\n",
    "ax3 = sns.histplot(data=data_error_frame2, x='LIMIT_BAL', kde=True, bins=20, ax=axes[1][0])\n",
    "ax1.set_title('Error Data Balance Distribution', fontsize=15)\n",
    "ax2.set_title('Data Balance Distribution', fontsize=15)\n",
    "ax3.set_title('False Negatives Data Balance Distribution', fontsize=15)\n",
    "plt.subplots_adjust(hspace = 0.3)"
   ]
  },
  {
   "cell_type": "markdown",
   "id": "2119dfe1",
   "metadata": {},
   "source": [
    "Comparing the distribution of the Limit Balance variable, the most important for the model, a couple of questions appear:\n",
    "- The largest error rate is concentrated in the smallest Limit Balance intervals.\n",
    "- Although in the error dataset it seems that the highest concentration is in the second interval, that is (50.000-100.000], in the false negatives it is mainly concentrated in the first one (5.000-50.000]."
   ]
  },
  {
   "cell_type": "markdown",
   "id": "1ca5368c",
   "metadata": {},
   "source": [
    "Taking this information into account and the fact that the first interval -(5,000-50,000]- is the one with the highest default rate and the one that represents a larger number of clients, the next step will try to establish a model for this first interval and another for the rest of the dataset."
   ]
  },
  {
   "cell_type": "markdown",
   "id": "9d21549b",
   "metadata": {},
   "source": [
    "### Building two models<a class='anchor' id='two'></a>\n",
    "\n",
    "&nbsp;"
   ]
  },
  {
   "cell_type": "code",
   "execution_count": 55,
   "id": "03b1e80c",
   "metadata": {},
   "outputs": [],
   "source": [
    "# Creates a new dataframe using loc and Limit Balance variable\n",
    "data2 = data.loc[data['LIMIT_BAL']<=50000]"
   ]
  },
  {
   "cell_type": "code",
   "execution_count": 56,
   "id": "3c43a01e",
   "metadata": {
    "scrolled": true
   },
   "outputs": [
    {
     "data": {
      "text/plain": [
       "0    68.22\n",
       "1    31.78\n",
       "Name: DEF_PAY_default, dtype: float64"
      ]
     },
     "execution_count": 56,
     "metadata": {},
     "output_type": "execute_result"
    }
   ],
   "source": [
    "# Shows the not/defaul rates of the dataframe\n",
    "np.round(data2['DEF_PAY_default'].value_counts(normalize=True)*100,decimals=2)"
   ]
  },
  {
   "cell_type": "code",
   "execution_count": 57,
   "id": "91efd196",
   "metadata": {
    "scrolled": true
   },
   "outputs": [
    {
     "name": "stdout",
     "output_type": "stream",
     "text": [
      "              precision    recall  f1-score   support\n",
      "\n",
      "           0       0.73      0.38      0.50      1557\n",
      "           1       0.36      0.71      0.48       764\n",
      "\n",
      "    accuracy                           0.49      2321\n",
      "   macro avg       0.54      0.55      0.49      2321\n",
      "weighted avg       0.61      0.49      0.49      2321\n",
      "\n",
      "     pred_neg  pred_pos\n",
      "neg       599       958\n",
      "pos       225       539 \n",
      "\n",
      "Actual positives in the data set:32.9%\n",
      "Marked as positive by the algorithm:64.5%\n",
      "Actual positives inside the marked as positive: 36.0%\n",
      "Currently missed positives of the total actual positives: 29.5\n",
      "\n",
      "The final default rate after applying this algorithm could be: 9.7%\n",
      "The number of customers would be reduced in comparison to the current number to a 35.5%\n"
     ]
    }
   ],
   "source": [
    "# Selecting features\n",
    "X = data2[['AGE','LIMIT_BAL','SEX_male', 'EDUCATION_graduate school', 'EDUCATION_university', 'EDUCATION_high school']]\n",
    "\n",
    "# Selecting dependent variable\n",
    "y = data2['DEF_PAY_default']\n",
    "\n",
    "# Train/Test Split\n",
    "X_train, X_test, y_train, y_test = train_test_split(X, y, test_size = 0.30, random_state=125)\n",
    "\n",
    "# Modelling(Classification)\n",
    "algo = GradientBoostingClassifier(learning_rate=0.08, n_estimators=401, max_depth=15, min_samples_split=100,min_samples_leaf=1000, max_features=2,random_state=10)\n",
    "model = algo.fit(X_train, y_train)\n",
    "y_scores = model.predict_proba(X_test)[:,1]\n",
    "\n",
    "# Calls the function\n",
    "classification_matrix_report(data2,0.28)"
   ]
  },
  {
   "cell_type": "markdown",
   "id": "47e6d381",
   "metadata": {},
   "source": [
    "&nbsp;\n",
    "\n",
    "The objective in this model is to greatly reduce the default percentage and keep a third of the customers approx. As mentioned above, this is an interval where many clients accumulate and with an especially high default rate, so it is key that the recall is high in this model.\n",
    "As mentioned above, this is an interval where many clients accumulate and with an especially high default rate, so it is key that the recall is high in this model. In this case, 0.71 has been obtained at the cost of losing 64.5% of the customers in this interval. \n",
    "\n",
    "To observe the consequences of using a prediction model strategy or another on all our clients, we store in a dataframe those that are accepted by the model:\n",
    "\n",
    "&nbsp;"
   ]
  },
  {
   "cell_type": "code",
   "execution_count": 58,
   "id": "6bb14d93",
   "metadata": {},
   "outputs": [],
   "source": [
    "# Uses the function created previously which is nested in the \"classification_matrix_report\"\n",
    "#function to get the array of predictions with the desired threshold\n",
    "preds = adjusted_classes(y_scores, 0.28)\n",
    "\n",
    "# Converts y_test to DataFrame type\n",
    "test_frame = Series.to_frame(y_test)\n",
    "\n",
    "# Insert the array containing the predictions made by the function in the DataFrame \n",
    "# with the actual results created previously\n",
    "test_frame.insert(1,'preds',preds)\n",
    "\n",
    "# Using loc creates a new dataframe  with the rows that have 'preds' column equal to 0, that is, \n",
    "# negative class or not default\n",
    "accepted_data = test_frame.loc[test_frame['preds']==0]\n",
    "\n",
    "# Take the indices of this Dataframe since the ones that came from y_test are kept,\n",
    "# which are those of the original dataset\n",
    "index_list = accepted_data.index\n",
    "\n",
    "# Using iloc create a dataframe from the original containing the rows that have been \n",
    "# well predicted\n",
    "df2 = data.iloc[index_list]"
   ]
  },
  {
   "cell_type": "markdown",
   "id": "da0d5f50",
   "metadata": {},
   "source": [
    "&nbsp;\n",
    "\n",
    "Now a model is built for the rest of the dataset :\n",
    "\n",
    "&nbsp;"
   ]
  },
  {
   "cell_type": "code",
   "execution_count": 59,
   "id": "cf8bc80c",
   "metadata": {},
   "outputs": [],
   "source": [
    "# Creates a new dataframe using loc and Limit Balance variable\n",
    "data3 = data.loc[data['LIMIT_BAL']>50000]"
   ]
  },
  {
   "cell_type": "code",
   "execution_count": 60,
   "id": "49759697",
   "metadata": {},
   "outputs": [
    {
     "data": {
      "text/plain": [
       "0    81.2\n",
       "1    18.8\n",
       "Name: DEF_PAY_default, dtype: float64"
      ]
     },
     "execution_count": 60,
     "metadata": {},
     "output_type": "execute_result"
    }
   ],
   "source": [
    "# Shows the not default/default rates of the dataframe\n",
    "np.round(data3['DEF_PAY_default'].value_counts(normalize=True)*100,decimals=2)"
   ]
  },
  {
   "cell_type": "code",
   "execution_count": 61,
   "id": "d17c62b1",
   "metadata": {
    "scrolled": true
   },
   "outputs": [
    {
     "name": "stdout",
     "output_type": "stream",
     "text": [
      "              precision    recall  f1-score   support\n",
      "\n",
      "           0       0.84      0.80      0.82      5487\n",
      "           1       0.28      0.34      0.31      1254\n",
      "\n",
      "    accuracy                           0.71      6741\n",
      "   macro avg       0.56      0.57      0.56      6741\n",
      "weighted avg       0.74      0.71      0.72      6741\n",
      "\n",
      "     pred_neg  pred_pos\n",
      "neg      4381      1106\n",
      "pos       828       426 \n",
      "\n",
      "Actual positives in the data set:18.6%\n",
      "Marked as positive by the algorithm:22.7%\n",
      "Actual positives inside the marked as positive: 27.8%\n",
      "Currently missed positives of the total actual positives: 66.0\n",
      "\n",
      "The final default rate after applying this algorithm could be: 12.3%\n",
      "The number of customers would be reduced in comparison to the current number to a 77.3%\n"
     ]
    }
   ],
   "source": [
    "# Selecting features\n",
    "X = data3[['AGE','LIMIT_BAL','SEX_male', 'EDUCATION_graduate school', 'EDUCATION_university', 'EDUCATION_high school']]\n",
    "\n",
    "# Selecting dependent variable\n",
    "y = data3['DEF_PAY_default']\n",
    "\n",
    "# Train/Test Split\n",
    "X_train, X_test, y_train, y_test = train_test_split(X, y, test_size = 0.30, random_state=125)\n",
    "\n",
    "# Modelling(Classification)\n",
    "algo = GradientBoostingClassifier(learning_rate=0.07, n_estimators=201, max_depth=5, min_samples_split=100,min_samples_leaf=2500, max_features=2,random_state=10)\n",
    "model = algo.fit(X_train, y_train)\n",
    "y_scores = model.predict_proba(X_test)[:,1]\n",
    "\n",
    "# Calls the function\n",
    "classification_matrix_report(data3,0.24)"
   ]
  },
  {
   "cell_type": "markdown",
   "id": "157d1a36",
   "metadata": {},
   "source": [
    "&nbsp;\n",
    "\n",
    "For this model, the objective is to preserve a large part of the current customer volume but lowering the default rate as much as possible. Thus we see how the precision and recall metrics for the positive class are lower, especially the recall, and vice versa, the metrics for the negative class are much higher than in the previous model.\n",
    "\n",
    "And again, to observe the consequences of using a prediction model strategy or another on all our clients, we store in a dataframe those that are accepted by the model:\n",
    "\n",
    "\n",
    "&nbsp;"
   ]
  },
  {
   "cell_type": "code",
   "execution_count": 62,
   "id": "99d8b522",
   "metadata": {},
   "outputs": [],
   "source": [
    "# Uses the function created previously which is nested in the \"classification_matrix_report\"\n",
    "#function to get the array of predictions with the desired threshold\n",
    "preds = adjusted_classes(y_scores, 0.24)\n",
    "\n",
    "# Converts y_test to dataframe type\n",
    "test_frame = Series.to_frame(y_test)\n",
    "\n",
    "# Insert the array containing the predictions made by the function in the DataFrame \n",
    "# with the actual results created previously\n",
    "test_frame.insert(1,'preds',preds)\n",
    "\n",
    "# Using loc creates a new dataframe  with the rows that have 'preds' column equal to 0, that is, \n",
    "# negative class or not default\n",
    "accepted_data = test_frame.loc[test_frame['preds']==0]\n",
    "\n",
    "\n",
    "# Take the indices of this Dataframe since the ones that came from y_test are kept,\n",
    "# which are those of the original dataset\n",
    "index_list = accepted_data.index\n",
    "\n",
    "# Using iloc create a dataframe from the original containing the rows that have been \n",
    "# well predicted\n",
    "df3 = data.iloc[index_list]"
   ]
  },
  {
   "cell_type": "markdown",
   "id": "1a782aa7",
   "metadata": {},
   "source": [
    "&nbsp;\n",
    "\n",
    "Once the two models have been built, to see what results achieve, it is calculated what is the general default rate and volume of total clients:\n",
    "\n",
    "&nbsp;"
   ]
  },
  {
   "cell_type": "code",
   "execution_count": 63,
   "id": "bc2f9125",
   "metadata": {
    "scrolled": true
   },
   "outputs": [
    {
     "name": "stdout",
     "output_type": "stream",
     "text": [
      "Final default rate is 11.95%\n",
      "Number of clients remaining is 66.6%\n"
     ]
    }
   ],
   "source": [
    "# Extracts the percentage of customers that would remain in the data2 & data3 models\n",
    "# with the global variables data2_perc & data3_perc nested in the \"classification_matrix_report\"\n",
    "# function and calculates how many rows there are\n",
    "total2 = ((len(data2)*data2_perc)/100)\n",
    "total3 = ((len(data3)*data3_perc)/100)\n",
    "\n",
    "# Extracts the percentage that these rows represent of the total data set\n",
    "total2_perc = (total2/len(data))*100\n",
    "total3_perc = (total3/len(data))*100\n",
    "\n",
    "# Creates a weighted average of the default rates in each model \n",
    "perc2 = final_def_perc2*total2_perc\n",
    "perc3 = final_def_perc3*total3_perc\n",
    "final_default_rate = (perc2+perc3)/(total2_perc+total3_perc)\n",
    "\n",
    "# Prints de final default rate and percentage of customers \n",
    "print('Final default rate is {}%'.format(np.round(final_default_rate,decimals=2)))\n",
    "print('Number of clients remaining is {}%'.format(np.round(((total2+total3)/len(data))*100,decimals=2)))"
   ]
  },
  {
   "cell_type": "markdown",
   "id": "84762dd2",
   "metadata": {},
   "source": [
    "&nbsp;\n",
    "\n",
    "These results are not very far from the results obtained with a single model. If with a single model it was possible to obtain around 10% with approximately 60% of the clients, it seems reasonable that by modifying the treshold a little and fine-tuning the model, the same results can be achieved using two models and vice versa.\n",
    "\n",
    "Even so, it would be interesting to see what percentages of clients each interval would represent with each of the strategies:\n",
    "\n",
    "&nbsp;"
   ]
  },
  {
   "cell_type": "code",
   "execution_count": 64,
   "id": "ea5949b1",
   "metadata": {},
   "outputs": [],
   "source": [
    "# Concatenates df df2\n",
    "well_pred_data = pd.concat([df2,df3])"
   ]
  },
  {
   "cell_type": "code",
   "execution_count": 65,
   "id": "23ea6f28",
   "metadata": {},
   "outputs": [],
   "source": [
    "# Creates a new column by binning the Limit Balance variable\n",
    "well_pred_data['BAL_BINNED'] = pd.cut(well_pred_data['LIMIT_BAL'], bins=[5000,50000,100000,150000,200000,250000,300000,400000,500000,1000000],\n",
    "labels=['(5000, 50000]','(50000, 100000]','(100000, 150000]',\n",
    "        '(150000, 200000]','(250000, 300000]','(200000, 250000]',\n",
    "        '(300000, 400000]','(400000, 500000]', ('+500000')])"
   ]
  },
  {
   "cell_type": "code",
   "execution_count": 66,
   "id": "e1d5cb8c",
   "metadata": {
    "scrolled": false
   },
   "outputs": [
    {
     "name": "stdout",
     "output_type": "stream",
     "text": [
      "(150000, 200000]    18.1\n",
      "(250000, 300000]    15.0\n",
      "(300000, 400000]    14.0\n",
      "(100000, 150000]    13.9\n",
      "(5000, 50000]       13.7\n",
      "(200000, 250000]    11.2\n",
      "(400000, 500000]     7.9\n",
      "(50000, 100000]      5.3\n",
      "+500000              0.9\n",
      "Name: BAL_BINNED, dtype: float64 \n",
      " (150000, 200000]    19.48\n",
      "(100000, 150000]    15.01\n",
      "(300000, 400000]    14.96\n",
      "(250000, 300000]    14.36\n",
      "(50000, 100000]     11.70\n",
      "(200000, 250000]    11.39\n",
      "(400000, 500000]     8.31\n",
      "(5000, 50000]        3.60\n",
      "+500000              1.19\n",
      "Name: BAL_BINNED, dtype: float64\n"
     ]
    }
   ],
   "source": [
    "# Creates the percentages of each interval of the BAL_BINNED variable for the well pred dataframe\n",
    "bal_percs = np.round((well_pred_data['BAL_BINNED'].value_counts(normalize=True))*100,decimals=1)\n",
    "\n",
    "# Creates the percentages of each interval of the BAL_BINNED variable for the general dataframe\n",
    "bal_percs_data = np.round(df['BAL_BINNED'].value_counts(normalize=True)*100,decimals=2)\n",
    "\n",
    "#Prints the percentages\n",
    "print(bal_percs,'\\n',bal_percs_data)"
   ]
  },
  {
   "cell_type": "markdown",
   "id": "0b4b1e20",
   "metadata": {},
   "source": [
    "Looking at the percentages, it is observed that:\n",
    "\n",
    "- The strategy of implementing a single model what it really does is destroy the first interval -(5,000-50,000]-, which we remember that before it represented 25.6% and now a scarce 3.6%.\n",
    "- By implementing two different models, what is achieved is to soften the influence exerted by the first interval on the total results without making it disappear almost completely.\n",
    "\n",
    "Finally, an attempt is made to build a model for each Limit Balance interval to see if the final result can be further optimized.\n",
    "\n",
    "&nbsp;"
   ]
  },
  {
   "cell_type": "markdown",
   "id": "50571b98",
   "metadata": {},
   "source": [
    "### Building a model for each interval<a class='anchor' id='each'></a>\n",
    "\n",
    "&nbsp;"
   ]
  },
  {
   "cell_type": "code",
   "execution_count": 67,
   "id": "deea4abf",
   "metadata": {},
   "outputs": [],
   "source": [
    "# Creates a new dataframe using loc and Limit Balance variable\n",
    "data2 = data.loc[data['LIMIT_BAL']<=50000]"
   ]
  },
  {
   "cell_type": "code",
   "execution_count": 68,
   "id": "263bd451",
   "metadata": {
    "scrolled": true
   },
   "outputs": [
    {
     "data": {
      "text/plain": [
       "0    68.22\n",
       "1    31.78\n",
       "Name: DEF_PAY_default, dtype: float64"
      ]
     },
     "execution_count": 68,
     "metadata": {},
     "output_type": "execute_result"
    }
   ],
   "source": [
    "# Shows the not/defaul rates of the dataframe\n",
    "np.round(data2['DEF_PAY_default'].value_counts(normalize=True)*100,decimals=2)"
   ]
  },
  {
   "cell_type": "code",
   "execution_count": 69,
   "id": "43355a3f",
   "metadata": {
    "scrolled": false
   },
   "outputs": [
    {
     "name": "stdout",
     "output_type": "stream",
     "text": [
      "              precision    recall  f1-score   support\n",
      "\n",
      "           0       0.69      0.57      0.62      1557\n",
      "           1       0.35      0.48      0.40       764\n",
      "\n",
      "    accuracy                           0.54      2321\n",
      "   macro avg       0.52      0.52      0.51      2321\n",
      "weighted avg       0.58      0.54      0.55      2321\n",
      "\n",
      "     pred_neg  pred_pos\n",
      "neg       881       676\n",
      "pos       399       365 \n",
      "\n",
      "Actual positives in the data set:32.9%\n",
      "Marked as positive by the algorithm:44.9%\n",
      "Actual positives inside the marked as positive: 35.1%\n",
      "Currently missed positives of the total actual positives: 52.2\n",
      "\n",
      "The final default rate after applying this algorithm could be: 17.2%\n",
      "The number of customers would be reduced in comparison to the current number to a 55.1%\n"
     ]
    }
   ],
   "source": [
    "# Selecting features\n",
    "X = data2[['AGE','LIMIT_BAL','SEX_male', 'EDUCATION_graduate school', 'EDUCATION_university', 'EDUCATION_high school']]\n",
    "\n",
    "# Selecting dependent variable\n",
    "y = data2['DEF_PAY_default']\n",
    "\n",
    "# Train/Test Split\n",
    "X_train, X_test, y_train, y_test = train_test_split(X, y, test_size = 0.30, random_state=125)\n",
    "\n",
    "# Modelling(Classification)\n",
    "algo = GradientBoostingClassifier(learning_rate=0.19, n_estimators=101, max_depth=8, min_samples_split=100,min_samples_leaf=100, max_features=2,random_state=10)\n",
    "model = algo.fit(X_train, y_train)\n",
    "y_scores = model.predict_proba(X_test)[:,1]\n",
    "\n",
    "# Calls the function\n",
    "classification_matrix_report(data2,0.33)"
   ]
  },
  {
   "cell_type": "code",
   "execution_count": 70,
   "id": "c8a5b6b1",
   "metadata": {
    "scrolled": true
   },
   "outputs": [],
   "source": [
    "# Uses the function created previously which is nested in the \"classification_matrix_report\"\n",
    "#function to get the array of predictions with the desired threshold\n",
    "preds = adjusted_classes(y_scores, 0.33)\n",
    "\n",
    "# Converts y_test to dataframe type\n",
    "test_frame = Series.to_frame(y_test)\n",
    "\n",
    "# Insert the array containing the predictions made by the function in the DataFrame \n",
    "# with the actual results created previously\n",
    "test_frame.insert(1,'preds',preds)\n",
    "\n",
    "\n",
    "# Using loc creates a new dataframe  with the rows that have 'preds' column equal to 0, that is, \n",
    "# negative class or not default\n",
    "accepted_data = test_frame.loc[test_frame['preds']==0]\n",
    "\n",
    "\n",
    "# Take the indices of this Dataframe since the ones that came from y_test are kept,\n",
    "# which are those of the original dataset\n",
    "index_list = accepted_data.index\n",
    "\n",
    "# Using iloc create a dataframe from the original containing the rows that have been \n",
    "# well predicted\n",
    "df4 = data.iloc[index_list]"
   ]
  },
  {
   "cell_type": "code",
   "execution_count": 71,
   "id": "fe598b34",
   "metadata": {},
   "outputs": [],
   "source": [
    "# Creates a new dataframe using loc and Limit Balance variable\n",
    "data3 = data.loc[(data['LIMIT_BAL']>50000)&(data['LIMIT_BAL']<=100000)]"
   ]
  },
  {
   "cell_type": "code",
   "execution_count": 72,
   "id": "e6deb1c2",
   "metadata": {
    "scrolled": false
   },
   "outputs": [
    {
     "data": {
      "text/plain": [
       "0    0.741969\n",
       "1    0.258031\n",
       "Name: DEF_PAY_default, dtype: float64"
      ]
     },
     "execution_count": 72,
     "metadata": {},
     "output_type": "execute_result"
    }
   ],
   "source": [
    "# Shows the not/defaul rates of the dataframe\n",
    "data3['DEF_PAY_default'].value_counts(normalize=True)"
   ]
  },
  {
   "cell_type": "code",
   "execution_count": 73,
   "id": "c75dbe81",
   "metadata": {
    "scrolled": false
   },
   "outputs": [
    {
     "name": "stdout",
     "output_type": "stream",
     "text": [
      "              precision    recall  f1-score   support\n",
      "\n",
      "           0       0.76      0.68      0.72      1069\n",
      "           1       0.32      0.41      0.36       388\n",
      "\n",
      "    accuracy                           0.61      1457\n",
      "   macro avg       0.54      0.55      0.54      1457\n",
      "weighted avg       0.64      0.61      0.62      1457\n",
      "\n",
      "     pred_neg  pred_pos\n",
      "neg       725       344\n",
      "pos       228       160 \n",
      "\n",
      "Actual positives in the data set:26.6%\n",
      "Marked as positive by the algorithm:34.6%\n",
      "Actual positives inside the marked as positive: 31.7%\n",
      "Currently missed positives of the total actual positives: 58.8\n",
      "\n",
      "The final default rate after applying this algorithm could be: 15.6%\n",
      "The number of customers would be reduced in comparison to the current number to a 65.4%\n"
     ]
    }
   ],
   "source": [
    "# Selecting features\n",
    "X = data3[['AGE','LIMIT_BAL','SEX_male', 'EDUCATION_graduate school', 'EDUCATION_university', 'EDUCATION_high school']]\n",
    "\n",
    "# Selecting dependent variable\n",
    "y = data3['DEF_PAY_default']\n",
    "\n",
    "# Train/Test Split\n",
    "X_train, X_test, y_train, y_test = train_test_split(X, y, test_size = 0.30, random_state=125)\n",
    "\n",
    "# Modelling(Classification)\n",
    "algo = GradientBoostingClassifier(learning_rate=0.09, n_estimators=201, max_depth=5, min_samples_split=100,min_samples_leaf=500, max_features='sqrt',random_state=10)\n",
    "model = algo.fit(X_train, y_train)\n",
    "y_scores = model.predict_proba(X_test)[:,1]\n",
    "\n",
    "# Calls the function\n",
    "classification_matrix_report(data3,0.28)"
   ]
  },
  {
   "cell_type": "code",
   "execution_count": 74,
   "id": "b2ce15b4",
   "metadata": {},
   "outputs": [],
   "source": [
    "# Uses the function created previously which is nested in the \"classification_matrix_report\"\n",
    "#function to get the array of predictions with the desired threshold\n",
    "preds = adjusted_classes(y_scores, 0.28)\n",
    "\n",
    "# Converts y_test to dataframe type\n",
    "test_frame = Series.to_frame(y_test)\n",
    "\n",
    "# Insert the array containing the predictions made by the function in the DataFrame \n",
    "# with the actual results created previously\n",
    "test_frame.insert(1,'preds',preds)\n",
    "\n",
    "# Using loc creates a new dataframe  with the rows that have 'preds' column equal to 0, that is, \n",
    "# negative class or not default\n",
    "accepted_data = test_frame.loc[test_frame['preds']==0]\n",
    "\n",
    "\n",
    "# Take the indices of this Dataframe since the ones that came from y_test are kept,\n",
    "# which are those of the original dataset\n",
    "index_list = accepted_data.index\n",
    "\n",
    "# Using iloc create a dataframe from the original containing the rows that have been \n",
    "# well predicted\n",
    "df5 = data.iloc[index_list]"
   ]
  },
  {
   "cell_type": "code",
   "execution_count": 75,
   "id": "031a0603",
   "metadata": {},
   "outputs": [],
   "source": [
    "# Creates a new dataframe using loc and Limit Balance variable\n",
    "data4 = data.loc[(data['LIMIT_BAL']>100000)&(data['LIMIT_BAL']<=150000)]"
   ]
  },
  {
   "cell_type": "code",
   "execution_count": 76,
   "id": "04a96b57",
   "metadata": {
    "scrolled": true
   },
   "outputs": [
    {
     "data": {
      "text/plain": [
       "0    0.788682\n",
       "1    0.211318\n",
       "Name: DEF_PAY_default, dtype: float64"
      ]
     },
     "execution_count": 76,
     "metadata": {},
     "output_type": "execute_result"
    }
   ],
   "source": [
    "# Shows the not/defaul rates of the dataframe\n",
    "data4['DEF_PAY_default'].value_counts(normalize=True)"
   ]
  },
  {
   "cell_type": "code",
   "execution_count": 77,
   "id": "f290cecf",
   "metadata": {
    "scrolled": true
   },
   "outputs": [
    {
     "name": "stdout",
     "output_type": "stream",
     "text": [
      "              precision    recall  f1-score   support\n",
      "\n",
      "           0       0.81      0.67      0.73       935\n",
      "           1       0.24      0.41      0.30       242\n",
      "\n",
      "    accuracy                           0.61      1177\n",
      "   macro avg       0.53      0.54      0.52      1177\n",
      "weighted avg       0.70      0.61      0.64      1177\n",
      "\n",
      "     pred_neg  pred_pos\n",
      "neg       623       312\n",
      "pos       143        99 \n",
      "\n",
      "Actual positives in the data set:20.6%\n",
      "Marked as positive by the algorithm:34.9%\n",
      "Actual positives inside the marked as positive: 24.1%\n",
      "Currently missed positives of the total actual positives: 59.1\n",
      "\n",
      "The final default rate after applying this algorithm could be: 12.1%\n",
      "The number of customers would be reduced in comparison to the current number to a 65.1%\n"
     ]
    }
   ],
   "source": [
    "# Selecting features\n",
    "X = data4[['AGE','LIMIT_BAL','SEX_male', 'EDUCATION_graduate school', 'EDUCATION_university', 'EDUCATION_high school']]\n",
    "\n",
    "# Selecting dependent variable\n",
    "y = data4['DEF_PAY_default']\n",
    "\n",
    "# Train/Test Split\n",
    "X_train, X_test, y_train, y_test = train_test_split(X, y, test_size = 0.30, random_state=125)\n",
    "\n",
    "# Modelling(Classification)\n",
    "algo = GradientBoostingClassifier(learning_rate=0.09, n_estimators=151, max_depth=3, min_samples_split=100,min_samples_leaf=500, max_features=2,random_state=10)\n",
    "model = algo.fit(X_train, y_train)\n",
    "y_scores = model.predict_proba(X_test)[:,1]\n",
    "\n",
    "# Calls the function\n",
    "classification_matrix_report(data4,0.225)"
   ]
  },
  {
   "cell_type": "code",
   "execution_count": 78,
   "id": "b225b334",
   "metadata": {},
   "outputs": [],
   "source": [
    "# Uses the function created previously which is nested in the \"classification_matrix_report\"\n",
    "#function to get the array of predictions with the desired threshold\n",
    "preds = adjusted_classes(y_scores, 0.225)\n",
    "\n",
    "# Converts y_test to dataframe type\n",
    "test_frame = Series.to_frame(y_test)\n",
    "\n",
    "# Insert the array containing the predictions made by the function in the DataFrame \n",
    "# with the actual results created previously\n",
    "test_frame.insert(1,'preds',preds)\n",
    "\n",
    "# Using loc creates a new dataframe  with the rows that have 'preds' column equal to 0, that is, \n",
    "# negative class or not default\n",
    "accepted_data = test_frame.loc[test_frame['preds']==0]\n",
    "\n",
    "\n",
    "# Take the indices of this Dataframe since the ones that came from y_test are kept,\n",
    "# which are those of the original dataset\n",
    "index_list = accepted_data.index\n",
    "\n",
    "# Using iloc create a dataframe from the original containing the rows that have been \n",
    "# well predicted\n",
    "df6 = data.iloc[index_list]"
   ]
  },
  {
   "cell_type": "code",
   "execution_count": 79,
   "id": "9ed8fdf8",
   "metadata": {},
   "outputs": [],
   "source": [
    "# Creates a new dataframe using loc and Limit Balance variable\n",
    "data5 = data.loc[(data['LIMIT_BAL']>150000)&(data['LIMIT_BAL']<=200000)]"
   ]
  },
  {
   "cell_type": "code",
   "execution_count": 80,
   "id": "379138cb",
   "metadata": {},
   "outputs": [
    {
     "data": {
      "text/plain": [
       "0    0.821384\n",
       "1    0.178616\n",
       "Name: DEF_PAY_default, dtype: float64"
      ]
     },
     "execution_count": 80,
     "metadata": {},
     "output_type": "execute_result"
    }
   ],
   "source": [
    "# Shows the not/defaul rates of the dataframe\n",
    "data5['DEF_PAY_default'].value_counts(normalize=True)"
   ]
  },
  {
   "cell_type": "code",
   "execution_count": 81,
   "id": "e169c4c4",
   "metadata": {
    "scrolled": false
   },
   "outputs": [
    {
     "name": "stdout",
     "output_type": "stream",
     "text": [
      "              precision    recall  f1-score   support\n",
      "\n",
      "           0       0.83      0.68      0.75       979\n",
      "           1       0.21      0.39      0.28       222\n",
      "\n",
      "    accuracy                           0.62      1201\n",
      "   macro avg       0.52      0.53      0.51      1201\n",
      "weighted avg       0.72      0.62      0.66      1201\n",
      "\n",
      "     pred_neg  pred_pos\n",
      "neg       663       316\n",
      "pos       136        86 \n",
      "\n",
      "Actual positives in the data set:18.5%\n",
      "Marked as positive by the algorithm:33.5%\n",
      "Actual positives inside the marked as positive: 21.4%\n",
      "Currently missed positives of the total actual positives: 61.3\n",
      "\n",
      "The final default rate after applying this algorithm could be: 11.3%\n",
      "The number of customers would be reduced in comparison to the current number to a 66.5%\n"
     ]
    }
   ],
   "source": [
    "# Selecting features\n",
    "X = data5[['AGE','LIMIT_BAL','SEX_male', 'EDUCATION_graduate school', 'EDUCATION_university', 'EDUCATION_high school']]\n",
    "\n",
    "# Selecting dependent variable\n",
    "y = data5['DEF_PAY_default']\n",
    "\n",
    "# Train/Test Split\n",
    "X_train, X_test, y_train, y_test = train_test_split(X, y, test_size = 0.30, random_state=125)\n",
    "\n",
    "# Modelling(Classification)\n",
    "algo = GradientBoostingClassifier(learning_rate=0.09, n_estimators=201, max_depth=4, min_samples_split=100,min_samples_leaf=100, max_features=2,random_state=10)\n",
    "model = algo.fit(X_train, y_train)\n",
    "y_scores = model.predict_proba(X_test)[:,1]\n",
    "\n",
    "# Calls the function\n",
    "classification_matrix_report(data5,0.19)"
   ]
  },
  {
   "cell_type": "code",
   "execution_count": 82,
   "id": "675c9e38",
   "metadata": {},
   "outputs": [],
   "source": [
    "# Uses the function created previously which is nested in the \"classification_matrix_report\"\n",
    "#function to get the array of predictions with the desired threshold\n",
    "preds = adjusted_classes(y_scores, 0.19)\n",
    "\n",
    "# Converts y_test to dataframe type\n",
    "test_frame = Series.to_frame(y_test)\n",
    "\n",
    "# Insert the array containing the predictions made by the function in the DataFrame \n",
    "# with the actual results created previously\n",
    "test_frame.insert(1,'preds',preds)\n",
    "\n",
    "# Using loc creates a new dataframe  with the rows that have 'preds' column equal to 0, that is, \n",
    "# negative class or not default\n",
    "accepted_data = test_frame.loc[test_frame['preds']==0]\n",
    "\n",
    "\n",
    "# Take the indices of this Dataframe since the ones that came from y_test are kept,\n",
    "# which are those of the original dataset\n",
    "index_list = accepted_data.index\n",
    "\n",
    "# Using iloc create a dataframe from the original containing the rows that have been \n",
    "# well predicted\n",
    "df7 = data.iloc[index_list]"
   ]
  },
  {
   "cell_type": "code",
   "execution_count": 83,
   "id": "60205c0a",
   "metadata": {},
   "outputs": [],
   "source": [
    "# Creates a new dataframe using loc and Limit Balance variable\n",
    "data6 = data.loc[data['LIMIT_BAL']>200000]"
   ]
  },
  {
   "cell_type": "code",
   "execution_count": 84,
   "id": "7aba90bf",
   "metadata": {},
   "outputs": [
    {
     "data": {
      "text/plain": [
       "0    0.852659\n",
       "1    0.147341\n",
       "Name: DEF_PAY_default, dtype: float64"
      ]
     },
     "execution_count": 84,
     "metadata": {},
     "output_type": "execute_result"
    }
   ],
   "source": [
    "# Shows the not/defaul rates of the dataframe\n",
    "data6['DEF_PAY_default'].value_counts(normalize=True)"
   ]
  },
  {
   "cell_type": "code",
   "execution_count": 85,
   "id": "af42870e",
   "metadata": {
    "scrolled": false
   },
   "outputs": [
    {
     "name": "stdout",
     "output_type": "stream",
     "text": [
      "              precision    recall  f1-score   support\n",
      "\n",
      "           0       0.87      0.72      0.79      2486\n",
      "           1       0.18      0.36      0.24       420\n",
      "\n",
      "    accuracy                           0.67      2906\n",
      "   macro avg       0.53      0.54      0.52      2906\n",
      "weighted avg       0.77      0.67      0.71      2906\n",
      "\n",
      "     pred_neg  pred_pos\n",
      "neg      1797       689\n",
      "pos       268       152 \n",
      "\n",
      "Actual positives in the data set:14.5%\n",
      "Marked as positive by the algorithm:28.9%\n",
      "Actual positives inside the marked as positive: 18.1%\n",
      "Currently missed positives of the total actual positives: 63.8\n",
      "\n",
      "The final default rate after applying this algorithm could be: 9.2%\n",
      "The number of customers would be reduced in comparison to the current number to a 71.1%\n"
     ]
    }
   ],
   "source": [
    "# Selecting features\n",
    "X = data6[['AGE','LIMIT_BAL','SEX_male', 'EDUCATION_graduate school', 'EDUCATION_university', 'EDUCATION_high school']]\n",
    "\n",
    "# Selecting dependent variable\n",
    "y = data6['DEF_PAY_default']\n",
    "\n",
    "# Train/Test Split\n",
    "X_train, X_test, y_train, y_test = train_test_split(X, y, test_size = 0.30, random_state=125)\n",
    "\n",
    "# Modelling(Classification)\n",
    "algo = GradientBoostingClassifier(learning_rate=0.04, n_estimators=501, max_depth=15, min_samples_split=100,min_samples_leaf=100, max_features=2,random_state=10)\n",
    "model = algo.fit(X_train, y_train)\n",
    "y_scores = model.predict_proba(X_test)[:,1]\n",
    "\n",
    "# Calls the function\n",
    "classification_matrix_report(data6,0.18)"
   ]
  },
  {
   "cell_type": "code",
   "execution_count": 86,
   "id": "aaecee06",
   "metadata": {},
   "outputs": [],
   "source": [
    "# Uses the function created previously which is nested in the \"classification_matrix_report\"\n",
    "#function to get the array of predictions with the desired threshold\n",
    "preds = adjusted_classes(y_scores, 0.18)\n",
    "\n",
    "# Converts y_test to dataframe type\n",
    "test_frame = Series.to_frame(y_test)\n",
    "\n",
    "# Insert the array containing the predictions made by the function in the DataFrame \n",
    "# with the actual results created previously\n",
    "test_frame.insert(1,'preds',preds)\n",
    "\n",
    "# Using loc creates a new dataframe  with the rows that have 'preds' column equal to 0, that is, \n",
    "# negative class or not default\n",
    "accepted_data = test_frame.loc[test_frame['preds']==0]\n",
    "\n",
    "\n",
    "# Take the indices of this Dataframe since the ones that came from y_test are kept,\n",
    "# which are those of the original dataset\n",
    "index_list = accepted_data.index\n",
    "\n",
    "# Using iloc create a dataframe from the original containing the rows that have been \n",
    "# well predicted\n",
    "df8 = data.iloc[index_list]"
   ]
  },
  {
   "cell_type": "code",
   "execution_count": 87,
   "id": "6978c166",
   "metadata": {
    "scrolled": true
   },
   "outputs": [
    {
     "name": "stdout",
     "output_type": "stream",
     "text": [
      "Final default rate is 12.65%\n",
      "Number of clients remaining is 64.7%\n"
     ]
    }
   ],
   "source": [
    "# Extracts the percentage of customers that would remain from data2 to data6 models\n",
    "# with the global variables from data2_perc to data6_perc nested in the \"classification_matrix_report\"\n",
    "# function and calculates how many rows there are\n",
    "total2 = ((len(data2)*data2_perc)/100)\n",
    "total3 = ((len(data3)*data3_perc)/100)\n",
    "total4 = ((len(data4)*data4_perc)/100)\n",
    "total5 = ((len(data5)*data5_perc)/100)\n",
    "total6 = ((len(data6)*data6_perc)/100)\n",
    "\n",
    "# Extracts the percentage that these rows represent of the total data set\n",
    "total2_perc = (total2/len(data))*100\n",
    "total3_perc = (total3/len(data))*100\n",
    "total4_perc = (total4/len(data))*100\n",
    "total5_perc = (total5/len(data))*100\n",
    "total6_perc = (total6/len(data))*100\n",
    "\n",
    "# Creates a weighted average of the default rates in each model \n",
    "perc2 = final_def_perc2*total2_perc\n",
    "perc3 = final_def_perc3*total3_perc\n",
    "perc4 = final_def_perc4*total4_perc\n",
    "perc5 = final_def_perc5*total5_perc\n",
    "perc6 = final_def_perc6*total6_perc\n",
    "final_default_rate = (perc2+perc3+perc4+perc5+perc6)/(total2_perc+total3_perc+total4_perc+total5_perc+total6_perc)\n",
    "\n",
    "# Prints de final default rate and percentage of customers \n",
    "print('Final default rate is {}%'.format(np.round(final_default_rate,decimals=2)))\n",
    "print('Number of clients remaining is {}%'.format(np.round(((total2+total3+total4+total5+total6)/len(data))*100,decimals=2)))"
   ]
  },
  {
   "cell_type": "markdown",
   "id": "5a84e6d1",
   "metadata": {},
   "source": [
    "&nbsp;\n",
    "\n",
    "Now we can compare the results obtained in the different three strategies: \n",
    "\n",
    "- One model: 10% default rate / 61.2% clients remaining\n",
    "- Two models: 11.95% / 66.6% clients remaining\n",
    "- One model for each interval: 12.65% / 64.7% clients remaining\n",
    "\n",
    "Beyond the fact that until now a specific element of comparison has not been established, -default rate or customers remaining- it seems that the strategy of establishing a model for each interval does not give better results than establishing two models since it can be seen how it obtains a percentage higher default and with fewer clients remaining.\n",
    "\n",
    "&nbsp;"
   ]
  },
  {
   "cell_type": "code",
   "execution_count": 88,
   "id": "c3a5746d",
   "metadata": {
    "scrolled": false
   },
   "outputs": [],
   "source": [
    "# Concatenates from df4 to df8\n",
    "well_pred_data2 = pd.concat([df4,df5,df6,df7,df8])"
   ]
  },
  {
   "cell_type": "code",
   "execution_count": 89,
   "id": "6a2056fd",
   "metadata": {},
   "outputs": [],
   "source": [
    "# Creates a new column by binning the Limit Balance variable\n",
    "well_pred_data2['BAL_BINNED'] = pd.cut(well_pred_data2['LIMIT_BAL'], bins=[5000,50000,100000,150000,200000,250000,300000,400000,500000,1000000],\n",
    "labels=['(5000, 50000]','(50000, 100000]','(100000, 150000]',\n",
    "        '(150000, 200000]','(250000, 300000]','(200000, 250000]',\n",
    "        '(300000, 400000]','(400000, 500000]', ('+500000')])"
   ]
  },
  {
   "cell_type": "code",
   "execution_count": 90,
   "id": "607eadf1",
   "metadata": {
    "scrolled": false
   },
   "outputs": [
    {
     "name": "stdout",
     "output_type": "stream",
     "text": [
      "(5000, 50000]       21.8\n",
      "(50000, 100000]     16.3\n",
      "(150000, 200000]    13.6\n",
      "(100000, 150000]    13.1\n",
      "(300000, 400000]    10.7\n",
      "(250000, 300000]     9.9\n",
      "(200000, 250000]     7.3\n",
      "(400000, 500000]     6.6\n",
      "+500000              0.7\n",
      "Name: BAL_BINNED, dtype: float64 \n",
      " (150000, 200000]    18.1\n",
      "(250000, 300000]    15.0\n",
      "(300000, 400000]    14.0\n",
      "(100000, 150000]    13.9\n",
      "(5000, 50000]       13.7\n",
      "(200000, 250000]    11.2\n",
      "(400000, 500000]     7.9\n",
      "(50000, 100000]      5.3\n",
      "+500000              0.9\n",
      "Name: BAL_BINNED, dtype: float64 \n",
      " (150000, 200000]    19.48\n",
      "(100000, 150000]    15.01\n",
      "(300000, 400000]    14.96\n",
      "(250000, 300000]    14.36\n",
      "(50000, 100000]     11.70\n",
      "(200000, 250000]    11.39\n",
      "(400000, 500000]     8.31\n",
      "(5000, 50000]        3.60\n",
      "+500000              1.19\n",
      "Name: BAL_BINNED, dtype: float64\n"
     ]
    }
   ],
   "source": [
    "# Creates the percentages of each interval of the BAL_BINNED variable for the well_pred_data2 dataframe\n",
    "bal_percs2 = np.round((well_pred_data2['BAL_BINNED'].value_counts(normalize=True))*100,decimals=1)\n",
    "\n",
    "# Prints the percentages\n",
    "print(bal_percs2,'\\n',bal_percs,'\\n',bal_percs_data)"
   ]
  },
  {
   "cell_type": "markdown",
   "id": "33e767c5",
   "metadata": {},
   "source": [
    "If we look again at the weight of each interval after applying the different strategies, we see :\n",
    "- The first section represents the strategy of different models.\n",
    "- The second section represents the strategy of two models. \n",
    "- The third section represents the strategy of one model.\n",
    "\n",
    "\n",
    "- The first strategy does not diminish the influence of the first interval much, this is because it has been decided not to tighten the model too much so as not to lower the number of customers even more.\n",
    "- Como se ha mencionado anteriormente la segunda estrategia disminuye más la influencia del primer intervalo y consigue mejores resultados.\n",
    "\n",
    "- La tercera estrategia consigue unos resultados parecidos a la segunda però elimina casi por completo el primer intervalo.\n",
    "\n",
    "\n",
    "\n",
    "\n",
    "&nbsp;"
   ]
  },
  {
   "cell_type": "code",
   "execution_count": null,
   "id": "74230615",
   "metadata": {},
   "outputs": [],
   "source": []
  },
  {
   "cell_type": "code",
   "execution_count": null,
   "id": "b8f02dab",
   "metadata": {},
   "outputs": [],
   "source": []
  },
  {
   "cell_type": "code",
   "execution_count": null,
   "id": "00a4c1e2",
   "metadata": {},
   "outputs": [],
   "source": []
  },
  {
   "cell_type": "code",
   "execution_count": null,
   "id": "885926fd",
   "metadata": {},
   "outputs": [],
   "source": []
  },
  {
   "cell_type": "code",
   "execution_count": null,
   "id": "3793a386",
   "metadata": {},
   "outputs": [],
   "source": []
  },
  {
   "cell_type": "code",
   "execution_count": null,
   "id": "6f3a8fd0",
   "metadata": {},
   "outputs": [],
   "source": []
  },
  {
   "cell_type": "code",
   "execution_count": null,
   "id": "5fa5b671",
   "metadata": {},
   "outputs": [],
   "source": []
  },
  {
   "cell_type": "code",
   "execution_count": null,
   "id": "7a87a157",
   "metadata": {},
   "outputs": [],
   "source": []
  },
  {
   "cell_type": "code",
   "execution_count": null,
   "id": "07cbc6fc",
   "metadata": {},
   "outputs": [],
   "source": []
  },
  {
   "cell_type": "code",
   "execution_count": 91,
   "id": "12390239",
   "metadata": {
    "scrolled": true
   },
   "outputs": [
    {
     "name": "stderr",
     "output_type": "stream",
     "text": [
      "/Users/albert/opt/anaconda3/envs/understanding-customers/lib/python3.9/site-packages/pandas/core/indexing.py:1636: SettingWithCopyWarning: \n",
      "A value is trying to be set on a copy of a slice from a DataFrame\n",
      "\n",
      "See the caveats in the documentation: https://pandas.pydata.org/pandas-docs/stable/user_guide/indexing.html#returning-a-view-versus-a-copy\n",
      "  self._setitem_single_block(indexer, value, name)\n"
     ]
    }
   ],
   "source": [
    "rev_cust = data[['SEP_PAY1','AUG_PAY2','JUL_PAY3','JUN_PAY4','MAY_PAY5','APR_PAY6']]\n",
    "index_list = rev_cust.loc[(rev_cust.max(axis=1)==0)&(rev_cust.min(axis=1)==-1)].index\n",
    "data['GOOD_CUST'] = 0 \n",
    "data['GOOD_CUST'].loc[index_list] = 1\n",
    "\n",
    "\n"
   ]
  },
  {
   "cell_type": "code",
   "execution_count": 92,
   "id": "d3e9151f",
   "metadata": {
    "scrolled": true
   },
   "outputs": [
    {
     "data": {
      "text/html": [
       "<div>\n",
       "<style scoped>\n",
       "    .dataframe tbody tr th:only-of-type {\n",
       "        vertical-align: middle;\n",
       "    }\n",
       "\n",
       "    .dataframe tbody tr th {\n",
       "        vertical-align: top;\n",
       "    }\n",
       "\n",
       "    .dataframe thead th {\n",
       "        text-align: right;\n",
       "    }\n",
       "</style>\n",
       "<table border=\"1\" class=\"dataframe\">\n",
       "  <thead>\n",
       "    <tr style=\"text-align: right;\">\n",
       "      <th></th>\n",
       "      <th>ID</th>\n",
       "      <th>LIMIT_BAL</th>\n",
       "      <th>MARRIAGE</th>\n",
       "      <th>AGE</th>\n",
       "      <th>SEP_PAY1</th>\n",
       "      <th>AUG_PAY2</th>\n",
       "      <th>JUL_PAY3</th>\n",
       "      <th>JUN_PAY4</th>\n",
       "      <th>MAY_PAY5</th>\n",
       "      <th>APR_PAY6</th>\n",
       "      <th>...</th>\n",
       "      <th>EDUCATION_graduate school</th>\n",
       "      <th>EDUCATION_high school</th>\n",
       "      <th>EDUCATION_other</th>\n",
       "      <th>EDUCATION_university</th>\n",
       "      <th>DEF_PAY_default</th>\n",
       "      <th>DEF_PAY_not default</th>\n",
       "      <th>AGE_BINNED</th>\n",
       "      <th>BAL_BINNED</th>\n",
       "      <th>BAL_DIF</th>\n",
       "      <th>GOOD_CUST</th>\n",
       "    </tr>\n",
       "  </thead>\n",
       "  <tbody>\n",
       "    <tr>\n",
       "      <th>4</th>\n",
       "      <td>5</td>\n",
       "      <td>50000</td>\n",
       "      <td>1</td>\n",
       "      <td>57</td>\n",
       "      <td>-1</td>\n",
       "      <td>0</td>\n",
       "      <td>-1</td>\n",
       "      <td>0</td>\n",
       "      <td>0</td>\n",
       "      <td>0</td>\n",
       "      <td>...</td>\n",
       "      <td>0</td>\n",
       "      <td>0</td>\n",
       "      <td>0</td>\n",
       "      <td>1</td>\n",
       "      <td>0</td>\n",
       "      <td>1</td>\n",
       "      <td>51-61</td>\n",
       "      <td>(5000, 50000]</td>\n",
       "      <td>-14165</td>\n",
       "      <td>1</td>\n",
       "    </tr>\n",
       "    <tr>\n",
       "      <th>7</th>\n",
       "      <td>8</td>\n",
       "      <td>100000</td>\n",
       "      <td>2</td>\n",
       "      <td>23</td>\n",
       "      <td>0</td>\n",
       "      <td>-1</td>\n",
       "      <td>-1</td>\n",
       "      <td>0</td>\n",
       "      <td>0</td>\n",
       "      <td>-1</td>\n",
       "      <td>...</td>\n",
       "      <td>0</td>\n",
       "      <td>0</td>\n",
       "      <td>0</td>\n",
       "      <td>1</td>\n",
       "      <td>0</td>\n",
       "      <td>1</td>\n",
       "      <td>21-31</td>\n",
       "      <td>(50000, 100000]</td>\n",
       "      <td>-88124</td>\n",
       "      <td>1</td>\n",
       "    </tr>\n",
       "    <tr>\n",
       "      <th>12</th>\n",
       "      <td>13</td>\n",
       "      <td>630000</td>\n",
       "      <td>2</td>\n",
       "      <td>41</td>\n",
       "      <td>-1</td>\n",
       "      <td>0</td>\n",
       "      <td>-1</td>\n",
       "      <td>-1</td>\n",
       "      <td>-1</td>\n",
       "      <td>-1</td>\n",
       "      <td>...</td>\n",
       "      <td>0</td>\n",
       "      <td>0</td>\n",
       "      <td>0</td>\n",
       "      <td>1</td>\n",
       "      <td>0</td>\n",
       "      <td>1</td>\n",
       "      <td>31-41</td>\n",
       "      <td>+500000</td>\n",
       "      <td>-617863</td>\n",
       "      <td>1</td>\n",
       "    </tr>\n",
       "    <tr>\n",
       "      <th>17</th>\n",
       "      <td>18</td>\n",
       "      <td>320000</td>\n",
       "      <td>1</td>\n",
       "      <td>49</td>\n",
       "      <td>0</td>\n",
       "      <td>0</td>\n",
       "      <td>0</td>\n",
       "      <td>-1</td>\n",
       "      <td>-1</td>\n",
       "      <td>-1</td>\n",
       "      <td>...</td>\n",
       "      <td>1</td>\n",
       "      <td>0</td>\n",
       "      <td>0</td>\n",
       "      <td>0</td>\n",
       "      <td>0</td>\n",
       "      <td>1</td>\n",
       "      <td>41-51</td>\n",
       "      <td>(300000, 400000]</td>\n",
       "      <td>-66714</td>\n",
       "      <td>1</td>\n",
       "    </tr>\n",
       "    <tr>\n",
       "      <th>20</th>\n",
       "      <td>21</td>\n",
       "      <td>130000</td>\n",
       "      <td>2</td>\n",
       "      <td>39</td>\n",
       "      <td>0</td>\n",
       "      <td>0</td>\n",
       "      <td>0</td>\n",
       "      <td>0</td>\n",
       "      <td>0</td>\n",
       "      <td>-1</td>\n",
       "      <td>...</td>\n",
       "      <td>0</td>\n",
       "      <td>1</td>\n",
       "      <td>0</td>\n",
       "      <td>0</td>\n",
       "      <td>0</td>\n",
       "      <td>1</td>\n",
       "      <td>31-41</td>\n",
       "      <td>(100000, 150000]</td>\n",
       "      <td>-91642</td>\n",
       "      <td>1</td>\n",
       "    </tr>\n",
       "    <tr>\n",
       "      <th>...</th>\n",
       "      <td>...</td>\n",
       "      <td>...</td>\n",
       "      <td>...</td>\n",
       "      <td>...</td>\n",
       "      <td>...</td>\n",
       "      <td>...</td>\n",
       "      <td>...</td>\n",
       "      <td>...</td>\n",
       "      <td>...</td>\n",
       "      <td>...</td>\n",
       "      <td>...</td>\n",
       "      <td>...</td>\n",
       "      <td>...</td>\n",
       "      <td>...</td>\n",
       "      <td>...</td>\n",
       "      <td>...</td>\n",
       "      <td>...</td>\n",
       "      <td>...</td>\n",
       "      <td>...</td>\n",
       "      <td>...</td>\n",
       "      <td>...</td>\n",
       "    </tr>\n",
       "    <tr>\n",
       "      <th>30169</th>\n",
       "      <td>29969</td>\n",
       "      <td>20000</td>\n",
       "      <td>2</td>\n",
       "      <td>34</td>\n",
       "      <td>0</td>\n",
       "      <td>0</td>\n",
       "      <td>0</td>\n",
       "      <td>0</td>\n",
       "      <td>0</td>\n",
       "      <td>-1</td>\n",
       "      <td>...</td>\n",
       "      <td>0</td>\n",
       "      <td>0</td>\n",
       "      <td>0</td>\n",
       "      <td>1</td>\n",
       "      <td>0</td>\n",
       "      <td>1</td>\n",
       "      <td>31-41</td>\n",
       "      <td>(5000, 50000]</td>\n",
       "      <td>-3022</td>\n",
       "      <td>1</td>\n",
       "    </tr>\n",
       "    <tr>\n",
       "      <th>30171</th>\n",
       "      <td>29971</td>\n",
       "      <td>360000</td>\n",
       "      <td>1</td>\n",
       "      <td>34</td>\n",
       "      <td>-1</td>\n",
       "      <td>-1</td>\n",
       "      <td>-1</td>\n",
       "      <td>0</td>\n",
       "      <td>0</td>\n",
       "      <td>-1</td>\n",
       "      <td>...</td>\n",
       "      <td>1</td>\n",
       "      <td>0</td>\n",
       "      <td>0</td>\n",
       "      <td>0</td>\n",
       "      <td>0</td>\n",
       "      <td>1</td>\n",
       "      <td>31-41</td>\n",
       "      <td>(300000, 400000]</td>\n",
       "      <td>-295931</td>\n",
       "      <td>1</td>\n",
       "    </tr>\n",
       "    <tr>\n",
       "      <th>30173</th>\n",
       "      <td>29973</td>\n",
       "      <td>190000</td>\n",
       "      <td>1</td>\n",
       "      <td>37</td>\n",
       "      <td>0</td>\n",
       "      <td>0</td>\n",
       "      <td>0</td>\n",
       "      <td>0</td>\n",
       "      <td>0</td>\n",
       "      <td>-1</td>\n",
       "      <td>...</td>\n",
       "      <td>1</td>\n",
       "      <td>0</td>\n",
       "      <td>0</td>\n",
       "      <td>0</td>\n",
       "      <td>0</td>\n",
       "      <td>1</td>\n",
       "      <td>31-41</td>\n",
       "      <td>(150000, 200000]</td>\n",
       "      <td>-41518</td>\n",
       "      <td>1</td>\n",
       "    </tr>\n",
       "    <tr>\n",
       "      <th>30194</th>\n",
       "      <td>29994</td>\n",
       "      <td>100000</td>\n",
       "      <td>2</td>\n",
       "      <td>38</td>\n",
       "      <td>0</td>\n",
       "      <td>-1</td>\n",
       "      <td>-1</td>\n",
       "      <td>0</td>\n",
       "      <td>0</td>\n",
       "      <td>0</td>\n",
       "      <td>...</td>\n",
       "      <td>1</td>\n",
       "      <td>0</td>\n",
       "      <td>0</td>\n",
       "      <td>0</td>\n",
       "      <td>0</td>\n",
       "      <td>1</td>\n",
       "      <td>31-41</td>\n",
       "      <td>(50000, 100000]</td>\n",
       "      <td>2996</td>\n",
       "      <td>1</td>\n",
       "    </tr>\n",
       "    <tr>\n",
       "      <th>30197</th>\n",
       "      <td>29997</td>\n",
       "      <td>150000</td>\n",
       "      <td>2</td>\n",
       "      <td>43</td>\n",
       "      <td>-1</td>\n",
       "      <td>-1</td>\n",
       "      <td>-1</td>\n",
       "      <td>-1</td>\n",
       "      <td>0</td>\n",
       "      <td>0</td>\n",
       "      <td>...</td>\n",
       "      <td>0</td>\n",
       "      <td>1</td>\n",
       "      <td>0</td>\n",
       "      <td>0</td>\n",
       "      <td>0</td>\n",
       "      <td>1</td>\n",
       "      <td>41-51</td>\n",
       "      <td>(100000, 150000]</td>\n",
       "      <td>-141021</td>\n",
       "      <td>1</td>\n",
       "    </tr>\n",
       "  </tbody>\n",
       "</table>\n",
       "<p>3509 rows × 34 columns</p>\n",
       "</div>"
      ],
      "text/plain": [
       "          ID  LIMIT_BAL  MARRIAGE  AGE  SEP_PAY1  AUG_PAY2  JUL_PAY3  \\\n",
       "4          5      50000         1   57        -1         0        -1   \n",
       "7          8     100000         2   23         0        -1        -1   \n",
       "12        13     630000         2   41        -1         0        -1   \n",
       "17        18     320000         1   49         0         0         0   \n",
       "20        21     130000         2   39         0         0         0   \n",
       "...      ...        ...       ...  ...       ...       ...       ...   \n",
       "30169  29969      20000         2   34         0         0         0   \n",
       "30171  29971     360000         1   34        -1        -1        -1   \n",
       "30173  29973     190000         1   37         0         0         0   \n",
       "30194  29994     100000         2   38         0        -1        -1   \n",
       "30197  29997     150000         2   43        -1        -1        -1   \n",
       "\n",
       "       JUN_PAY4  MAY_PAY5  APR_PAY6  ...  EDUCATION_graduate school  \\\n",
       "4             0         0         0  ...                          0   \n",
       "7             0         0        -1  ...                          0   \n",
       "12           -1        -1        -1  ...                          0   \n",
       "17           -1        -1        -1  ...                          1   \n",
       "20            0         0        -1  ...                          0   \n",
       "...         ...       ...       ...  ...                        ...   \n",
       "30169         0         0        -1  ...                          0   \n",
       "30171         0         0        -1  ...                          1   \n",
       "30173         0         0        -1  ...                          1   \n",
       "30194         0         0         0  ...                          1   \n",
       "30197        -1         0         0  ...                          0   \n",
       "\n",
       "       EDUCATION_high school  EDUCATION_other  EDUCATION_university  \\\n",
       "4                          0                0                     1   \n",
       "7                          0                0                     1   \n",
       "12                         0                0                     1   \n",
       "17                         0                0                     0   \n",
       "20                         1                0                     0   \n",
       "...                      ...              ...                   ...   \n",
       "30169                      0                0                     1   \n",
       "30171                      0                0                     0   \n",
       "30173                      0                0                     0   \n",
       "30194                      0                0                     0   \n",
       "30197                      1                0                     0   \n",
       "\n",
       "       DEF_PAY_default  DEF_PAY_not default  AGE_BINNED        BAL_BINNED  \\\n",
       "4                    0                    1       51-61     (5000, 50000]   \n",
       "7                    0                    1       21-31   (50000, 100000]   \n",
       "12                   0                    1       31-41           +500000   \n",
       "17                   0                    1       41-51  (300000, 400000]   \n",
       "20                   0                    1       31-41  (100000, 150000]   \n",
       "...                ...                  ...         ...               ...   \n",
       "30169                0                    1       31-41     (5000, 50000]   \n",
       "30171                0                    1       31-41  (300000, 400000]   \n",
       "30173                0                    1       31-41  (150000, 200000]   \n",
       "30194                0                    1       31-41   (50000, 100000]   \n",
       "30197                0                    1       41-51  (100000, 150000]   \n",
       "\n",
       "       BAL_DIF  GOOD_CUST  \n",
       "4       -14165          1  \n",
       "7       -88124          1  \n",
       "12     -617863          1  \n",
       "17      -66714          1  \n",
       "20      -91642          1  \n",
       "...        ...        ...  \n",
       "30169    -3022          1  \n",
       "30171  -295931          1  \n",
       "30173   -41518          1  \n",
       "30194     2996          1  \n",
       "30197  -141021          1  \n",
       "\n",
       "[3509 rows x 34 columns]"
      ]
     },
     "execution_count": 92,
     "metadata": {},
     "output_type": "execute_result"
    }
   ],
   "source": [
    "data.loc[data['GOOD_CUST']==1]"
   ]
  },
  {
   "cell_type": "code",
   "execution_count": 93,
   "id": "83f8423d",
   "metadata": {},
   "outputs": [
    {
     "name": "stdout",
     "output_type": "stream",
     "text": [
      "              precision    recall  f1-score   support\n",
      "\n",
      "           0       0.88      0.97      0.93      7977\n",
      "           1       0.16      0.04      0.06      1084\n",
      "\n",
      "    accuracy                           0.86      9061\n",
      "   macro avg       0.52      0.51      0.49      9061\n",
      "weighted avg       0.80      0.86      0.82      9061\n",
      "\n",
      "     pred_neg  pred_pos\n",
      "neg      7774       203\n",
      "pos      1045        39\n"
     ]
    }
   ],
   "source": [
    "# Selecting features\n",
    "X = data[['AGE','LIMIT_BAL','SEX_male', 'EDUCATION_graduate school', 'EDUCATION_university', 'EDUCATION_high school']]\n",
    "\n",
    "# Selecting dependent variable\n",
    "y = data['GOOD_CUST']\n",
    "\n",
    "# Train/Test Split\n",
    "X_train, X_test, y_train, y_test = train_test_split(X, y, test_size = 0.30, random_state=125)\n",
    "\n",
    "# Modelling(Classification)\n",
    "algo = RandomForestClassifier()\n",
    "model = algo.fit(X_train, y_train)\n",
    "preds = model.predict(X_test)\n",
    "\n",
    "df = pd.DataFrame(confusion_matrix(y_test, preds),\n",
    "                       columns=['pred_neg', 'pred_pos'], \n",
    "                       index=['neg', 'pos'])\n",
    "# Calls the function\n",
    "print(classification_report(y_test, preds))\n",
    "print(df)"
   ]
  },
  {
   "cell_type": "code",
   "execution_count": null,
   "id": "fa2fc450",
   "metadata": {},
   "outputs": [],
   "source": []
  },
  {
   "cell_type": "code",
   "execution_count": null,
   "id": "a5192cb5",
   "metadata": {},
   "outputs": [],
   "source": []
  },
  {
   "cell_type": "code",
   "execution_count": null,
   "id": "bc9aea22",
   "metadata": {},
   "outputs": [],
   "source": []
  },
  {
   "cell_type": "code",
   "execution_count": null,
   "id": "6a04c77a",
   "metadata": {},
   "outputs": [],
   "source": []
  },
  {
   "cell_type": "code",
   "execution_count": null,
   "id": "6946d3d0",
   "metadata": {},
   "outputs": [],
   "source": []
  },
  {
   "cell_type": "code",
   "execution_count": null,
   "id": "cb138fd4",
   "metadata": {},
   "outputs": [],
   "source": []
  },
  {
   "cell_type": "code",
   "execution_count": null,
   "id": "b56a0bc0",
   "metadata": {},
   "outputs": [],
   "source": []
  },
  {
   "cell_type": "code",
   "execution_count": null,
   "id": "a4ad2c31",
   "metadata": {},
   "outputs": [],
   "source": []
  },
  {
   "cell_type": "markdown",
   "id": "ea1a5b3d",
   "metadata": {},
   "source": [
    "## Regression<a class='anchor' id='regression'></a>"
   ]
  },
  {
   "cell_type": "markdown",
   "id": "e8de2768",
   "metadata": {},
   "source": [
    "As explained in the introduction, this section tries to understand which quantity is the most suitable for each client through regression models. To begin with, three models are built -RandomForest Regressor, Linear Regression, Support Vector Regression- to find the most appropriate model. To do this, cross validation is used for the three models :\n",
    "\n",
    "&nbsp;"
   ]
  },
  {
   "cell_type": "code",
   "execution_count": 94,
   "id": "3558742a",
   "metadata": {
    "scrolled": true
   },
   "outputs": [
    {
     "data": {
      "text/html": [
       "<div>\n",
       "<style scoped>\n",
       "    .dataframe tbody tr th:only-of-type {\n",
       "        vertical-align: middle;\n",
       "    }\n",
       "\n",
       "    .dataframe tbody tr th {\n",
       "        vertical-align: top;\n",
       "    }\n",
       "\n",
       "    .dataframe thead th {\n",
       "        text-align: right;\n",
       "    }\n",
       "</style>\n",
       "<table border=\"1\" class=\"dataframe\">\n",
       "  <thead>\n",
       "    <tr style=\"text-align: right;\">\n",
       "      <th></th>\n",
       "      <th>ID</th>\n",
       "      <th>LIMIT_BAL</th>\n",
       "      <th>MARRIAGE</th>\n",
       "      <th>AGE</th>\n",
       "      <th>SEP_PAY1</th>\n",
       "      <th>AUG_PAY2</th>\n",
       "      <th>JUL_PAY3</th>\n",
       "      <th>JUN_PAY4</th>\n",
       "      <th>MAY_PAY5</th>\n",
       "      <th>APR_PAY6</th>\n",
       "      <th>...</th>\n",
       "      <th>EDUCATION_graduate school</th>\n",
       "      <th>EDUCATION_high school</th>\n",
       "      <th>EDUCATION_other</th>\n",
       "      <th>EDUCATION_university</th>\n",
       "      <th>DEF_PAY_default</th>\n",
       "      <th>DEF_PAY_not default</th>\n",
       "      <th>AGE_BINNED</th>\n",
       "      <th>BAL_BINNED</th>\n",
       "      <th>BAL_DIF</th>\n",
       "      <th>GOOD_CUST</th>\n",
       "    </tr>\n",
       "  </thead>\n",
       "  <tbody>\n",
       "    <tr>\n",
       "      <th>0</th>\n",
       "      <td>1</td>\n",
       "      <td>20000</td>\n",
       "      <td>1</td>\n",
       "      <td>24</td>\n",
       "      <td>2</td>\n",
       "      <td>2</td>\n",
       "      <td>-1</td>\n",
       "      <td>-1</td>\n",
       "      <td>-2</td>\n",
       "      <td>-2</td>\n",
       "      <td>...</td>\n",
       "      <td>0</td>\n",
       "      <td>0</td>\n",
       "      <td>0</td>\n",
       "      <td>1</td>\n",
       "      <td>1</td>\n",
       "      <td>0</td>\n",
       "      <td>21-31</td>\n",
       "      <td>(5000, 50000]</td>\n",
       "      <td>-16087</td>\n",
       "      <td>0</td>\n",
       "    </tr>\n",
       "    <tr>\n",
       "      <th>1</th>\n",
       "      <td>2</td>\n",
       "      <td>120000</td>\n",
       "      <td>2</td>\n",
       "      <td>26</td>\n",
       "      <td>-1</td>\n",
       "      <td>2</td>\n",
       "      <td>0</td>\n",
       "      <td>0</td>\n",
       "      <td>0</td>\n",
       "      <td>2</td>\n",
       "      <td>...</td>\n",
       "      <td>0</td>\n",
       "      <td>0</td>\n",
       "      <td>0</td>\n",
       "      <td>1</td>\n",
       "      <td>1</td>\n",
       "      <td>0</td>\n",
       "      <td>21-31</td>\n",
       "      <td>(100000, 150000]</td>\n",
       "      <td>-116545</td>\n",
       "      <td>0</td>\n",
       "    </tr>\n",
       "    <tr>\n",
       "      <th>2</th>\n",
       "      <td>3</td>\n",
       "      <td>90000</td>\n",
       "      <td>2</td>\n",
       "      <td>34</td>\n",
       "      <td>0</td>\n",
       "      <td>0</td>\n",
       "      <td>0</td>\n",
       "      <td>0</td>\n",
       "      <td>0</td>\n",
       "      <td>0</td>\n",
       "      <td>...</td>\n",
       "      <td>0</td>\n",
       "      <td>0</td>\n",
       "      <td>0</td>\n",
       "      <td>1</td>\n",
       "      <td>0</td>\n",
       "      <td>1</td>\n",
       "      <td>31-41</td>\n",
       "      <td>(50000, 100000]</td>\n",
       "      <td>-60761</td>\n",
       "      <td>0</td>\n",
       "    </tr>\n",
       "    <tr>\n",
       "      <th>3</th>\n",
       "      <td>4</td>\n",
       "      <td>50000</td>\n",
       "      <td>1</td>\n",
       "      <td>37</td>\n",
       "      <td>0</td>\n",
       "      <td>0</td>\n",
       "      <td>0</td>\n",
       "      <td>0</td>\n",
       "      <td>0</td>\n",
       "      <td>0</td>\n",
       "      <td>...</td>\n",
       "      <td>0</td>\n",
       "      <td>0</td>\n",
       "      <td>0</td>\n",
       "      <td>1</td>\n",
       "      <td>0</td>\n",
       "      <td>1</td>\n",
       "      <td>31-41</td>\n",
       "      <td>(5000, 50000]</td>\n",
       "      <td>-709</td>\n",
       "      <td>0</td>\n",
       "    </tr>\n",
       "    <tr>\n",
       "      <th>4</th>\n",
       "      <td>5</td>\n",
       "      <td>50000</td>\n",
       "      <td>1</td>\n",
       "      <td>57</td>\n",
       "      <td>-1</td>\n",
       "      <td>0</td>\n",
       "      <td>-1</td>\n",
       "      <td>0</td>\n",
       "      <td>0</td>\n",
       "      <td>0</td>\n",
       "      <td>...</td>\n",
       "      <td>0</td>\n",
       "      <td>0</td>\n",
       "      <td>0</td>\n",
       "      <td>1</td>\n",
       "      <td>0</td>\n",
       "      <td>1</td>\n",
       "      <td>51-61</td>\n",
       "      <td>(5000, 50000]</td>\n",
       "      <td>-14165</td>\n",
       "      <td>1</td>\n",
       "    </tr>\n",
       "    <tr>\n",
       "      <th>5</th>\n",
       "      <td>6</td>\n",
       "      <td>50000</td>\n",
       "      <td>2</td>\n",
       "      <td>37</td>\n",
       "      <td>0</td>\n",
       "      <td>0</td>\n",
       "      <td>0</td>\n",
       "      <td>0</td>\n",
       "      <td>0</td>\n",
       "      <td>0</td>\n",
       "      <td>...</td>\n",
       "      <td>1</td>\n",
       "      <td>0</td>\n",
       "      <td>0</td>\n",
       "      <td>0</td>\n",
       "      <td>0</td>\n",
       "      <td>1</td>\n",
       "      <td>31-41</td>\n",
       "      <td>(5000, 50000]</td>\n",
       "      <td>14400</td>\n",
       "      <td>0</td>\n",
       "    </tr>\n",
       "    <tr>\n",
       "      <th>6</th>\n",
       "      <td>7</td>\n",
       "      <td>500000</td>\n",
       "      <td>2</td>\n",
       "      <td>29</td>\n",
       "      <td>0</td>\n",
       "      <td>0</td>\n",
       "      <td>0</td>\n",
       "      <td>0</td>\n",
       "      <td>0</td>\n",
       "      <td>0</td>\n",
       "      <td>...</td>\n",
       "      <td>1</td>\n",
       "      <td>0</td>\n",
       "      <td>0</td>\n",
       "      <td>0</td>\n",
       "      <td>0</td>\n",
       "      <td>1</td>\n",
       "      <td>21-31</td>\n",
       "      <td>(400000, 500000]</td>\n",
       "      <td>42653</td>\n",
       "      <td>0</td>\n",
       "    </tr>\n",
       "    <tr>\n",
       "      <th>7</th>\n",
       "      <td>8</td>\n",
       "      <td>100000</td>\n",
       "      <td>2</td>\n",
       "      <td>23</td>\n",
       "      <td>0</td>\n",
       "      <td>-1</td>\n",
       "      <td>-1</td>\n",
       "      <td>0</td>\n",
       "      <td>0</td>\n",
       "      <td>-1</td>\n",
       "      <td>...</td>\n",
       "      <td>0</td>\n",
       "      <td>0</td>\n",
       "      <td>0</td>\n",
       "      <td>1</td>\n",
       "      <td>0</td>\n",
       "      <td>1</td>\n",
       "      <td>21-31</td>\n",
       "      <td>(50000, 100000]</td>\n",
       "      <td>-88124</td>\n",
       "      <td>1</td>\n",
       "    </tr>\n",
       "    <tr>\n",
       "      <th>8</th>\n",
       "      <td>9</td>\n",
       "      <td>140000</td>\n",
       "      <td>1</td>\n",
       "      <td>28</td>\n",
       "      <td>0</td>\n",
       "      <td>0</td>\n",
       "      <td>2</td>\n",
       "      <td>0</td>\n",
       "      <td>0</td>\n",
       "      <td>0</td>\n",
       "      <td>...</td>\n",
       "      <td>0</td>\n",
       "      <td>1</td>\n",
       "      <td>0</td>\n",
       "      <td>0</td>\n",
       "      <td>0</td>\n",
       "      <td>1</td>\n",
       "      <td>21-31</td>\n",
       "      <td>(100000, 150000]</td>\n",
       "      <td>-125904</td>\n",
       "      <td>0</td>\n",
       "    </tr>\n",
       "    <tr>\n",
       "      <th>9</th>\n",
       "      <td>10</td>\n",
       "      <td>20000</td>\n",
       "      <td>2</td>\n",
       "      <td>35</td>\n",
       "      <td>-2</td>\n",
       "      <td>-2</td>\n",
       "      <td>-2</td>\n",
       "      <td>-2</td>\n",
       "      <td>-1</td>\n",
       "      <td>-1</td>\n",
       "      <td>...</td>\n",
       "      <td>0</td>\n",
       "      <td>1</td>\n",
       "      <td>0</td>\n",
       "      <td>0</td>\n",
       "      <td>0</td>\n",
       "      <td>1</td>\n",
       "      <td>31-41</td>\n",
       "      <td>(5000, 50000]</td>\n",
       "      <td>-6088</td>\n",
       "      <td>0</td>\n",
       "    </tr>\n",
       "    <tr>\n",
       "      <th>10</th>\n",
       "      <td>11</td>\n",
       "      <td>200000</td>\n",
       "      <td>2</td>\n",
       "      <td>34</td>\n",
       "      <td>0</td>\n",
       "      <td>0</td>\n",
       "      <td>2</td>\n",
       "      <td>0</td>\n",
       "      <td>0</td>\n",
       "      <td>-1</td>\n",
       "      <td>...</td>\n",
       "      <td>0</td>\n",
       "      <td>1</td>\n",
       "      <td>0</td>\n",
       "      <td>0</td>\n",
       "      <td>0</td>\n",
       "      <td>1</td>\n",
       "      <td>31-41</td>\n",
       "      <td>(150000, 200000]</td>\n",
       "      <td>-188927</td>\n",
       "      <td>0</td>\n",
       "    </tr>\n",
       "    <tr>\n",
       "      <th>11</th>\n",
       "      <td>12</td>\n",
       "      <td>260000</td>\n",
       "      <td>2</td>\n",
       "      <td>51</td>\n",
       "      <td>-1</td>\n",
       "      <td>-1</td>\n",
       "      <td>-1</td>\n",
       "      <td>-1</td>\n",
       "      <td>-1</td>\n",
       "      <td>2</td>\n",
       "      <td>...</td>\n",
       "      <td>1</td>\n",
       "      <td>0</td>\n",
       "      <td>0</td>\n",
       "      <td>0</td>\n",
       "      <td>0</td>\n",
       "      <td>1</td>\n",
       "      <td>41-51</td>\n",
       "      <td>(200000, 250000]</td>\n",
       "      <td>-237713</td>\n",
       "      <td>0</td>\n",
       "    </tr>\n",
       "    <tr>\n",
       "      <th>12</th>\n",
       "      <td>13</td>\n",
       "      <td>630000</td>\n",
       "      <td>2</td>\n",
       "      <td>41</td>\n",
       "      <td>-1</td>\n",
       "      <td>0</td>\n",
       "      <td>-1</td>\n",
       "      <td>-1</td>\n",
       "      <td>-1</td>\n",
       "      <td>-1</td>\n",
       "      <td>...</td>\n",
       "      <td>0</td>\n",
       "      <td>0</td>\n",
       "      <td>0</td>\n",
       "      <td>1</td>\n",
       "      <td>0</td>\n",
       "      <td>1</td>\n",
       "      <td>31-41</td>\n",
       "      <td>+500000</td>\n",
       "      <td>-617863</td>\n",
       "      <td>1</td>\n",
       "    </tr>\n",
       "    <tr>\n",
       "      <th>13</th>\n",
       "      <td>14</td>\n",
       "      <td>70000</td>\n",
       "      <td>2</td>\n",
       "      <td>30</td>\n",
       "      <td>1</td>\n",
       "      <td>2</td>\n",
       "      <td>2</td>\n",
       "      <td>0</td>\n",
       "      <td>0</td>\n",
       "      <td>2</td>\n",
       "      <td>...</td>\n",
       "      <td>0</td>\n",
       "      <td>0</td>\n",
       "      <td>0</td>\n",
       "      <td>1</td>\n",
       "      <td>1</td>\n",
       "      <td>0</td>\n",
       "      <td>21-31</td>\n",
       "      <td>(50000, 100000]</td>\n",
       "      <td>-2631</td>\n",
       "      <td>0</td>\n",
       "    </tr>\n",
       "    <tr>\n",
       "      <th>14</th>\n",
       "      <td>15</td>\n",
       "      <td>250000</td>\n",
       "      <td>2</td>\n",
       "      <td>29</td>\n",
       "      <td>0</td>\n",
       "      <td>0</td>\n",
       "      <td>0</td>\n",
       "      <td>0</td>\n",
       "      <td>0</td>\n",
       "      <td>0</td>\n",
       "      <td>...</td>\n",
       "      <td>1</td>\n",
       "      <td>0</td>\n",
       "      <td>0</td>\n",
       "      <td>0</td>\n",
       "      <td>0</td>\n",
       "      <td>1</td>\n",
       "      <td>21-31</td>\n",
       "      <td>(250000, 300000]</td>\n",
       "      <td>-179113</td>\n",
       "      <td>0</td>\n",
       "    </tr>\n",
       "    <tr>\n",
       "      <th>15</th>\n",
       "      <td>16</td>\n",
       "      <td>50000</td>\n",
       "      <td>3</td>\n",
       "      <td>23</td>\n",
       "      <td>1</td>\n",
       "      <td>2</td>\n",
       "      <td>0</td>\n",
       "      <td>0</td>\n",
       "      <td>0</td>\n",
       "      <td>0</td>\n",
       "      <td>...</td>\n",
       "      <td>0</td>\n",
       "      <td>1</td>\n",
       "      <td>0</td>\n",
       "      <td>0</td>\n",
       "      <td>0</td>\n",
       "      <td>1</td>\n",
       "      <td>21-31</td>\n",
       "      <td>(5000, 50000]</td>\n",
       "      <td>614</td>\n",
       "      <td>0</td>\n",
       "    </tr>\n",
       "    <tr>\n",
       "      <th>16</th>\n",
       "      <td>17</td>\n",
       "      <td>20000</td>\n",
       "      <td>2</td>\n",
       "      <td>24</td>\n",
       "      <td>0</td>\n",
       "      <td>0</td>\n",
       "      <td>2</td>\n",
       "      <td>2</td>\n",
       "      <td>2</td>\n",
       "      <td>2</td>\n",
       "      <td>...</td>\n",
       "      <td>1</td>\n",
       "      <td>0</td>\n",
       "      <td>0</td>\n",
       "      <td>0</td>\n",
       "      <td>1</td>\n",
       "      <td>0</td>\n",
       "      <td>21-31</td>\n",
       "      <td>(5000, 50000]</td>\n",
       "      <td>-896</td>\n",
       "      <td>0</td>\n",
       "    </tr>\n",
       "    <tr>\n",
       "      <th>17</th>\n",
       "      <td>18</td>\n",
       "      <td>320000</td>\n",
       "      <td>1</td>\n",
       "      <td>49</td>\n",
       "      <td>0</td>\n",
       "      <td>0</td>\n",
       "      <td>0</td>\n",
       "      <td>-1</td>\n",
       "      <td>-1</td>\n",
       "      <td>-1</td>\n",
       "      <td>...</td>\n",
       "      <td>1</td>\n",
       "      <td>0</td>\n",
       "      <td>0</td>\n",
       "      <td>0</td>\n",
       "      <td>0</td>\n",
       "      <td>1</td>\n",
       "      <td>41-51</td>\n",
       "      <td>(300000, 400000]</td>\n",
       "      <td>-66714</td>\n",
       "      <td>1</td>\n",
       "    </tr>\n",
       "    <tr>\n",
       "      <th>18</th>\n",
       "      <td>19</td>\n",
       "      <td>360000</td>\n",
       "      <td>1</td>\n",
       "      <td>49</td>\n",
       "      <td>1</td>\n",
       "      <td>-2</td>\n",
       "      <td>-2</td>\n",
       "      <td>-2</td>\n",
       "      <td>-2</td>\n",
       "      <td>-2</td>\n",
       "      <td>...</td>\n",
       "      <td>1</td>\n",
       "      <td>0</td>\n",
       "      <td>0</td>\n",
       "      <td>0</td>\n",
       "      <td>0</td>\n",
       "      <td>1</td>\n",
       "      <td>41-51</td>\n",
       "      <td>(300000, 400000]</td>\n",
       "      <td>-360000</td>\n",
       "      <td>0</td>\n",
       "    </tr>\n",
       "    <tr>\n",
       "      <th>19</th>\n",
       "      <td>20</td>\n",
       "      <td>180000</td>\n",
       "      <td>2</td>\n",
       "      <td>29</td>\n",
       "      <td>1</td>\n",
       "      <td>-2</td>\n",
       "      <td>-2</td>\n",
       "      <td>-2</td>\n",
       "      <td>-2</td>\n",
       "      <td>-2</td>\n",
       "      <td>...</td>\n",
       "      <td>1</td>\n",
       "      <td>0</td>\n",
       "      <td>0</td>\n",
       "      <td>0</td>\n",
       "      <td>0</td>\n",
       "      <td>1</td>\n",
       "      <td>21-31</td>\n",
       "      <td>(150000, 200000]</td>\n",
       "      <td>-180000</td>\n",
       "      <td>0</td>\n",
       "    </tr>\n",
       "  </tbody>\n",
       "</table>\n",
       "<p>20 rows × 34 columns</p>\n",
       "</div>"
      ],
      "text/plain": [
       "    ID  LIMIT_BAL  MARRIAGE  AGE  SEP_PAY1  AUG_PAY2  JUL_PAY3  JUN_PAY4  \\\n",
       "0    1      20000         1   24         2         2        -1        -1   \n",
       "1    2     120000         2   26        -1         2         0         0   \n",
       "2    3      90000         2   34         0         0         0         0   \n",
       "3    4      50000         1   37         0         0         0         0   \n",
       "4    5      50000         1   57        -1         0        -1         0   \n",
       "5    6      50000         2   37         0         0         0         0   \n",
       "6    7     500000         2   29         0         0         0         0   \n",
       "7    8     100000         2   23         0        -1        -1         0   \n",
       "8    9     140000         1   28         0         0         2         0   \n",
       "9   10      20000         2   35        -2        -2        -2        -2   \n",
       "10  11     200000         2   34         0         0         2         0   \n",
       "11  12     260000         2   51        -1        -1        -1        -1   \n",
       "12  13     630000         2   41        -1         0        -1        -1   \n",
       "13  14      70000         2   30         1         2         2         0   \n",
       "14  15     250000         2   29         0         0         0         0   \n",
       "15  16      50000         3   23         1         2         0         0   \n",
       "16  17      20000         2   24         0         0         2         2   \n",
       "17  18     320000         1   49         0         0         0        -1   \n",
       "18  19     360000         1   49         1        -2        -2        -2   \n",
       "19  20     180000         2   29         1        -2        -2        -2   \n",
       "\n",
       "    MAY_PAY5  APR_PAY6  ...  EDUCATION_graduate school  EDUCATION_high school  \\\n",
       "0         -2        -2  ...                          0                      0   \n",
       "1          0         2  ...                          0                      0   \n",
       "2          0         0  ...                          0                      0   \n",
       "3          0         0  ...                          0                      0   \n",
       "4          0         0  ...                          0                      0   \n",
       "5          0         0  ...                          1                      0   \n",
       "6          0         0  ...                          1                      0   \n",
       "7          0        -1  ...                          0                      0   \n",
       "8          0         0  ...                          0                      1   \n",
       "9         -1        -1  ...                          0                      1   \n",
       "10         0        -1  ...                          0                      1   \n",
       "11        -1         2  ...                          1                      0   \n",
       "12        -1        -1  ...                          0                      0   \n",
       "13         0         2  ...                          0                      0   \n",
       "14         0         0  ...                          1                      0   \n",
       "15         0         0  ...                          0                      1   \n",
       "16         2         2  ...                          1                      0   \n",
       "17        -1        -1  ...                          1                      0   \n",
       "18        -2        -2  ...                          1                      0   \n",
       "19        -2        -2  ...                          1                      0   \n",
       "\n",
       "    EDUCATION_other  EDUCATION_university  DEF_PAY_default  \\\n",
       "0                 0                     1                1   \n",
       "1                 0                     1                1   \n",
       "2                 0                     1                0   \n",
       "3                 0                     1                0   \n",
       "4                 0                     1                0   \n",
       "5                 0                     0                0   \n",
       "6                 0                     0                0   \n",
       "7                 0                     1                0   \n",
       "8                 0                     0                0   \n",
       "9                 0                     0                0   \n",
       "10                0                     0                0   \n",
       "11                0                     0                0   \n",
       "12                0                     1                0   \n",
       "13                0                     1                1   \n",
       "14                0                     0                0   \n",
       "15                0                     0                0   \n",
       "16                0                     0                1   \n",
       "17                0                     0                0   \n",
       "18                0                     0                0   \n",
       "19                0                     0                0   \n",
       "\n",
       "    DEF_PAY_not default  AGE_BINNED        BAL_BINNED  BAL_DIF  GOOD_CUST  \n",
       "0                     0       21-31     (5000, 50000]   -16087          0  \n",
       "1                     0       21-31  (100000, 150000]  -116545          0  \n",
       "2                     1       31-41   (50000, 100000]   -60761          0  \n",
       "3                     1       31-41     (5000, 50000]     -709          0  \n",
       "4                     1       51-61     (5000, 50000]   -14165          1  \n",
       "5                     1       31-41     (5000, 50000]    14400          0  \n",
       "6                     1       21-31  (400000, 500000]    42653          0  \n",
       "7                     1       21-31   (50000, 100000]   -88124          1  \n",
       "8                     1       21-31  (100000, 150000]  -125904          0  \n",
       "9                     1       31-41     (5000, 50000]    -6088          0  \n",
       "10                    1       31-41  (150000, 200000]  -188927          0  \n",
       "11                    1       41-51  (200000, 250000]  -237713          0  \n",
       "12                    1       31-41           +500000  -617863          1  \n",
       "13                    0       21-31   (50000, 100000]    -2631          0  \n",
       "14                    1       21-31  (250000, 300000]  -179113          0  \n",
       "15                    1       21-31     (5000, 50000]      614          0  \n",
       "16                    0       21-31     (5000, 50000]     -896          0  \n",
       "17                    1       41-51  (300000, 400000]   -66714          1  \n",
       "18                    1       41-51  (300000, 400000]  -360000          0  \n",
       "19                    1       21-31  (150000, 200000]  -180000          0  \n",
       "\n",
       "[20 rows x 34 columns]"
      ]
     },
     "execution_count": 94,
     "metadata": {},
     "output_type": "execute_result"
    }
   ],
   "source": [
    "# Shows the first 20 lines of the dataframe\n",
    "data[:20]"
   ]
  },
  {
   "cell_type": "code",
   "execution_count": 95,
   "id": "4d1955e4",
   "metadata": {},
   "outputs": [],
   "source": [
    "# Selecting features\n",
    "X = data[['AGE','DEF_PAY_default','SEX_male', 'EDUCATION_graduate school', 'EDUCATION_university', 'EDUCATION_high school','EDUCATION_other']]\n"
   ]
  },
  {
   "cell_type": "code",
   "execution_count": 96,
   "id": "16029227",
   "metadata": {},
   "outputs": [],
   "source": [
    "# Selecting dependent variable\n",
    "y = data['LIMIT_BAL']"
   ]
  },
  {
   "cell_type": "code",
   "execution_count": 97,
   "id": "29343a24",
   "metadata": {},
   "outputs": [],
   "source": [
    "# Train/Test Split\n",
    "X_train, X_test, y_train, y_test = train_test_split(X, y, test_size = 0.30, random_state=129)"
   ]
  },
  {
   "cell_type": "code",
   "execution_count": 98,
   "id": "cc8c1b4f",
   "metadata": {
    "scrolled": true
   },
   "outputs": [],
   "source": [
    "# Creates an array of models\n",
    "algosClass = []\n",
    "algosClass.append(('Random Forest Regressor',RandomForestRegressor()))\n",
    "algosClass.append(('Linear Regression',LinearRegression(normalize=True)))\n",
    "algosClass.append(('Support Vector Regression',SVR()))"
   ]
  },
  {
   "cell_type": "code",
   "execution_count": 99,
   "id": "b9d75bfe",
   "metadata": {
    "scrolled": false
   },
   "outputs": [
    {
     "name": "stdout",
     "output_type": "stream",
     "text": [
      "Random Forest Regressor 0.17531880836458755\n",
      "Linear Regression 0.1228458465800056\n",
      "Support Vector Regression -0.055216606238931286\n"
     ]
    }
   ],
   "source": [
    "# Loops across the array and uses the cross_val_score function for each model\n",
    "results = []\n",
    "names = []\n",
    "for name, model in algosClass:\n",
    "    result = cross_val_score(model, X,y, cv=3, scoring='r2')\n",
    "    names.append(name)\n",
    "    results.append(result)\n",
    "\n",
    "# Prints the results of each model\n",
    "for i in range(len(names)):\n",
    "    print(names[i],results[i].mean())"
   ]
  },
  {
   "cell_type": "markdown",
   "id": "2ca9965d",
   "metadata": {},
   "source": [
    "&nbsp;\n",
    "\n",
    "Taking into account that Random Forest gives the best result, we invoke it again and begin to analyze the variables included in the model:\n",
    "\n",
    "&nbsp;"
   ]
  },
  {
   "cell_type": "code",
   "execution_count": 100,
   "id": "a4d9bc00",
   "metadata": {},
   "outputs": [
    {
     "name": "stdout",
     "output_type": "stream",
     "text": [
      "R Squared: 0.183\n",
      "RMSE: 116951.453\n"
     ]
    }
   ],
   "source": [
    "# Selecting features\n",
    "X = data[['AGE','SEX_male', 'EDUCATION_graduate school', 'EDUCATION_high school']]\n",
    "\n",
    "# Selecting dependent variable\n",
    "y = data['LIMIT_BAL']\n",
    "\n",
    "# Train/Test Split\n",
    "X_train, X_test, y_train, y_test = train_test_split(X, y, test_size = 0.30, random_state=129)\n",
    "\n",
    "# Modelling(Regression)\n",
    "algo = RandomForestRegressor()\n",
    "model = algo.fit(X_train,y_train)\n",
    "preds = model.predict(X_test)\n",
    "\n",
    "rmse = sqrt(mean_squared_error(y_test, preds))\n",
    "predRsquared = r2_score(y_test,preds)\n",
    "\n",
    "print('R Squared: %.3f' % predRsquared)\n",
    "print('RMSE: %.3f' % rmse)\n",
    "\n"
   ]
  },
  {
   "cell_type": "code",
   "execution_count": 101,
   "id": "1467815c",
   "metadata": {
    "scrolled": true
   },
   "outputs": [
    {
     "data": {
      "image/png": "[encoded data removed]",
      "text/plain": [
       "<Figure size 432x288 with 1 Axes>"
      ]
     },
     "metadata": {
      "needs_background": "light"
     },
     "output_type": "display_data"
    }
   ],
   "source": [
    "# Plots a comparison between the known values and the preds\n",
    "plt.scatter(y_test, preds,alpha=0.5)\n",
    "plt.xlabel('Ground Truth')\n",
    "plt.ylabel('Predictions')\n",
    "plt.show();"
   ]
  },
  {
   "cell_type": "code",
   "execution_count": 102,
   "id": "52bf9d38",
   "metadata": {},
   "outputs": [],
   "source": [
    "# Creates a sample of the dataframe\n",
    "sample = data.sample(n=1000)"
   ]
  },
  {
   "cell_type": "code",
   "execution_count": 103,
   "id": "4bdfbaf8",
   "metadata": {},
   "outputs": [
    {
     "data": {
      "text/plain": [
       "<seaborn.axisgrid.FacetGrid at 0x11ae26a00>"
      ]
     },
     "execution_count": 103,
     "metadata": {},
     "output_type": "execute_result"
    },
    {
     "data": {
      "image/png": "[encoded data removed]",
      "text/plain": [
       "<Figure size 360x360 with 1 Axes>"
      ]
     },
     "metadata": {
      "needs_background": "light"
     },
     "output_type": "display_data"
    }
   ],
   "source": [
    "# Scatterplot takin AGE as x variable and LIMIT_BAL as y variable\n",
    "sns.relplot(x='AGE',y='LIMIT_BAL',data=sample,alpha=0.5)"
   ]
  },
  {
   "cell_type": "code",
   "execution_count": 104,
   "id": "57e0c61d",
   "metadata": {
    "scrolled": false
   },
   "outputs": [
    {
     "data": {
      "text/plain": [
       "<seaborn.axisgrid.FacetGrid at 0x11ae269d0>"
      ]
     },
     "execution_count": 104,
     "metadata": {},
     "output_type": "execute_result"
    },
    {
     "data": {
      "image/png": "[encoded data removed]",
      "text/plain": [
       "<Figure size 360x360 with 1 Axes>"
      ]
     },
     "metadata": {
      "needs_background": "light"
     },
     "output_type": "display_data"
    }
   ],
   "source": [
    "# Scatterplot taking categorical SEX_male as x variable and continuous LIMIT_BAL as y variable \n",
    "sns.catplot(x='SEX_male',y='LIMIT_BAL',data=sample,alpha=0.5)"
   ]
  },
  {
   "cell_type": "code",
   "execution_count": 105,
   "id": "0f13f619",
   "metadata": {},
   "outputs": [
    {
     "data": {
      "text/plain": [
       "<seaborn.axisgrid.FacetGrid at 0x11d597760>"
      ]
     },
     "execution_count": 105,
     "metadata": {},
     "output_type": "execute_result"
    },
    {
     "data": {
      "image/png": "[encoded data removed]",
      "text/plain": [
       "<Figure size 360x360 with 1 Axes>"
      ]
     },
     "metadata": {
      "needs_background": "light"
     },
     "output_type": "display_data"
    }
   ],
   "source": [
    "# Scatterplot taking categorical MARRIAGE as x variable and continuous LIMIT_BAL as y variable \n",
    "sns.catplot(x='MARRIAGE',y='LIMIT_BAL',data=sample,alpha=0.5)"
   ]
  },
  {
   "cell_type": "markdown",
   "id": "27788fc4",
   "metadata": {},
   "source": [
    "## Conclusions<a class='anchor' id='conclusions'></a>"
   ]
  },
  {
   "cell_type": "markdown",
   "id": "6d6616d4",
   "metadata": {},
   "source": [
    "Throughout the report, different conclusions have been reached so this section serves as a summary to understand them all together:\n",
    "\n",
    "- For this type of business it is important to establish models as accurately as possible. Even so, in this specific case, it should be noted that we find a particularly high default rate, 22.7%. And with the data set we have, the positive class, that is, the defaults, cannot be predicted with much accuracy.\n",
    "\n",
    "\n",
    "- For these reasons, it is necessary to take into account other metrics such as recall and precision and distinguish the performance of the model between the positive class -default- and the negative class -not default-. In this sense, a model that has good returns to predict not defaults is useless if it does not have them to predict defaults.\n",
    "\n",
    "\n",
    "- In order to increase the recall for the positive class -default- it has been necessary to modify the threshold. That is, the probability limit from which the model considers a prediction as 1 -positive class- or 0 -negative class-.\n",
    "\n",
    "\n",
    "- After making an analysis of the errors of the built model, it has been determined that the majority of errors came from the first Limit Balance interval (5.000-50.000].\n",
    "\n",
    "\n",
    "- For this reason, it has been decided to test three different strategies:\n",
    "  - Build a unique model.\n",
    "  - Build two models (one for the first interval and one for the rest).\n",
    "  - Build a model for each interval.\n",
    "  \n",
    "\n",
    "- The first two strategies have achieved better results than the third, but it seems that the most interesting would be the second since the first strategy -a single model- ends up completely eliminating the possibility of granting credits of between (5.000-50.000] while the second strategy is more balanced between all intervals.\n",
    "\n",
    "\n",
    "- Regarding Regression, it has not yet been possible to achieve adequate results to understand what amount would be adequate for each client."
   ]
  },
  {
   "cell_type": "code",
   "execution_count": null,
   "id": "40cd0284",
   "metadata": {},
   "outputs": [],
   "source": []
  }
 ],
 "metadata": {
  "kernelspec": {
   "display_name": "Python 3 (ipykernel)",
   "language": "python",
   "name": "python3"
  },
  "language_info": {
   "codemirror_mode": {
    "name": "ipython",
    "version": 3
   },
   "file_extension": ".py",
   "mimetype": "text/x-python",
   "name": "python",
   "nbconvert_exporter": "python",
   "pygments_lexer": "ipython3",
   "version": "3.9.7"
  }
 },
 "nbformat": 4,
 "nbformat_minor": 5
}
